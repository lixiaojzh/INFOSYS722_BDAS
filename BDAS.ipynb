{
 "cells": [
  {
   "cell_type": "code",
   "execution_count": 1,
   "metadata": {},
   "outputs": [],
   "source": [
    "# Must be included at the beginning of each new notebook. Remember to change the app name.\n",
    "import findspark\n",
    "findspark.init('/home/ubuntu/spark-2.1.1-bin-hadoop2.7')\n",
    "import pyspark\n",
    "from pyspark.sql import SparkSession\n",
    "spark = SparkSession.builder.appName('BDAS').getOrCreate()"
   ]
  },
  {
   "cell_type": "code",
   "execution_count": 2,
   "metadata": {},
   "outputs": [],
   "source": [
    "import pandas as pd"
   ]
  },
  {
   "cell_type": "code",
   "execution_count": 3,
   "metadata": {},
   "outputs": [],
   "source": [
    "train = spark.read.csv('Datasets/train.csv',inferSchema=True,header=True)"
   ]
  },
  {
   "cell_type": "code",
   "execution_count": 4,
   "metadata": {},
   "outputs": [],
   "source": [
    "train.registerTempTable(\"train\")"
   ]
  },
  {
   "cell_type": "code",
   "execution_count": 5,
   "metadata": {},
   "outputs": [
    {
     "name": "stdout",
     "output_type": "stream",
     "text": [
      "(9557, 143)\n"
     ]
    }
   ],
   "source": [
    "#2.3\tExplore the data\n",
    "\n",
    "print((train.count(), len(train.columns)))\n"
   ]
  },
  {
   "cell_type": "code",
   "execution_count": 6,
   "metadata": {},
   "outputs": [
    {
     "data": {
      "text/plain": [
       "<matplotlib.axes._subplots.AxesSubplot at 0x7f2df7a37780>"
      ]
     },
     "execution_count": 6,
     "metadata": {},
     "output_type": "execute_result"
    }
   ],
   "source": [
    "import seaborn as sns\n",
    "\n",
    "sns.countplot(\"Target\", data=train.toPandas())"
   ]
  },
  {
   "cell_type": "code",
   "execution_count": 7,
   "metadata": {},
   "outputs": [
    {
     "data": {
      "text/html": [
       "<div>\n",
       "<style scoped>\n",
       "    .dataframe tbody tr th:only-of-type {\n",
       "        vertical-align: middle;\n",
       "    }\n",
       "\n",
       "    .dataframe tbody tr th {\n",
       "        vertical-align: top;\n",
       "    }\n",
       "\n",
       "    .dataframe thead th {\n",
       "        text-align: right;\n",
       "    }\n",
       "</style>\n",
       "<table border=\"1\" class=\"dataframe\">\n",
       "  <thead>\n",
       "    <tr style=\"text-align: right;\">\n",
       "      <th></th>\n",
       "      <th>Id</th>\n",
       "      <th>idhogar</th>\n",
       "      <th>dependency</th>\n",
       "      <th>edjefe</th>\n",
       "      <th>edjefa</th>\n",
       "    </tr>\n",
       "  </thead>\n",
       "  <tbody>\n",
       "    <tr>\n",
       "      <th>0</th>\n",
       "      <td>ID_279628684</td>\n",
       "      <td>21eb7fcc1</td>\n",
       "      <td>no</td>\n",
       "      <td>10</td>\n",
       "      <td>no</td>\n",
       "    </tr>\n",
       "    <tr>\n",
       "      <th>1</th>\n",
       "      <td>ID_f29eb3ddd</td>\n",
       "      <td>0e5d7a658</td>\n",
       "      <td>8</td>\n",
       "      <td>12</td>\n",
       "      <td>no</td>\n",
       "    </tr>\n",
       "    <tr>\n",
       "      <th>2</th>\n",
       "      <td>ID_68de51c94</td>\n",
       "      <td>2c7317ea8</td>\n",
       "      <td>8</td>\n",
       "      <td>no</td>\n",
       "      <td>11</td>\n",
       "    </tr>\n",
       "    <tr>\n",
       "      <th>3</th>\n",
       "      <td>ID_d671db89c</td>\n",
       "      <td>2b58d945f</td>\n",
       "      <td>yes</td>\n",
       "      <td>11</td>\n",
       "      <td>no</td>\n",
       "    </tr>\n",
       "    <tr>\n",
       "      <th>4</th>\n",
       "      <td>ID_d56d6f5f5</td>\n",
       "      <td>2b58d945f</td>\n",
       "      <td>yes</td>\n",
       "      <td>11</td>\n",
       "      <td>no</td>\n",
       "    </tr>\n",
       "  </tbody>\n",
       "</table>\n",
       "</div>"
      ],
      "text/plain": [
       "             Id    idhogar dependency edjefe edjefa\n",
       "0  ID_279628684  21eb7fcc1         no     10     no\n",
       "1  ID_f29eb3ddd  0e5d7a658          8     12     no\n",
       "2  ID_68de51c94  2c7317ea8          8     no     11\n",
       "3  ID_d671db89c  2b58d945f        yes     11     no\n",
       "4  ID_d56d6f5f5  2b58d945f        yes     11     no"
      ]
     },
     "execution_count": 7,
     "metadata": {},
     "output_type": "execute_result"
    }
   ],
   "source": [
    "train.toPandas().select_dtypes('object').head()"
   ]
  },
  {
   "cell_type": "code",
   "execution_count": 8,
   "metadata": {},
   "outputs": [
    {
     "data": {
      "text/plain": [
       "<matplotlib.axes._subplots.AxesSubplot at 0x7f2df7704550>"
      ]
     },
     "execution_count": 8,
     "metadata": {},
     "output_type": "execute_result"
    },
    {
     "data": {
      "image/png": "[encoded data removed]",
      "text/plain": [
       "<Figure size 432x288 with 1 Axes>"
      ]
     },
     "metadata": {},
     "output_type": "display_data"
    }
   ],
   "source": [
    " sns.countplot(x=\"r4t3\",hue=\"Target\",data=train.toPandas())\n"
   ]
  },
  {
   "cell_type": "code",
   "execution_count": 9,
   "metadata": {},
   "outputs": [
    {
     "data": {
      "text/plain": [
       "<matplotlib.axes._subplots.AxesSubplot at 0x7f2df77ac8d0>"
      ]
     },
     "execution_count": 9,
     "metadata": {},
     "output_type": "execute_result"
    },
    {
     "data": {
      "image/png": "[encoded data removed]",
      "text/plain": [
       "<Figure size 432x288 with 1 Axes>"
      ]
     },
     "metadata": {},
     "output_type": "display_data"
    }
   ],
   "source": [
    "sns.violinplot(x='Target', y='v2a1', data=train.toPandas(), split=True)"
   ]
  },
  {
   "cell_type": "code",
   "execution_count": 10,
   "metadata": {},
   "outputs": [
    {
     "data": {
      "text/html": [
       "<div>\n",
       "<style scoped>\n",
       "    .dataframe tbody tr th:only-of-type {\n",
       "        vertical-align: middle;\n",
       "    }\n",
       "\n",
       "    .dataframe tbody tr th {\n",
       "        vertical-align: top;\n",
       "    }\n",
       "\n",
       "    .dataframe thead th {\n",
       "        text-align: right;\n",
       "    }\n",
       "</style>\n",
       "<table border=\"1\" class=\"dataframe\">\n",
       "  <thead>\n",
       "    <tr style=\"text-align: right;\">\n",
       "      <th></th>\n",
       "      <th>missing</th>\n",
       "      <th>percent</th>\n",
       "    </tr>\n",
       "  </thead>\n",
       "  <tbody>\n",
       "    <tr>\n",
       "      <th>rez_esc</th>\n",
       "      <td>7928</td>\n",
       "      <td>0.829549</td>\n",
       "    </tr>\n",
       "    <tr>\n",
       "      <th>v18q1</th>\n",
       "      <td>7342</td>\n",
       "      <td>0.768233</td>\n",
       "    </tr>\n",
       "    <tr>\n",
       "      <th>v2a1</th>\n",
       "      <td>6860</td>\n",
       "      <td>0.717798</td>\n",
       "    </tr>\n",
       "    <tr>\n",
       "      <th>SQBmeaned</th>\n",
       "      <td>5</td>\n",
       "      <td>0.000523</td>\n",
       "    </tr>\n",
       "    <tr>\n",
       "      <th>meaneduc</th>\n",
       "      <td>5</td>\n",
       "      <td>0.000523</td>\n",
       "    </tr>\n",
       "    <tr>\n",
       "      <th>Id</th>\n",
       "      <td>0</td>\n",
       "      <td>0.000000</td>\n",
       "    </tr>\n",
       "    <tr>\n",
       "      <th>hogar_adul</th>\n",
       "      <td>0</td>\n",
       "      <td>0.000000</td>\n",
       "    </tr>\n",
       "    <tr>\n",
       "      <th>parentesco10</th>\n",
       "      <td>0</td>\n",
       "      <td>0.000000</td>\n",
       "    </tr>\n",
       "    <tr>\n",
       "      <th>parentesco11</th>\n",
       "      <td>0</td>\n",
       "      <td>0.000000</td>\n",
       "    </tr>\n",
       "    <tr>\n",
       "      <th>parentesco12</th>\n",
       "      <td>0</td>\n",
       "      <td>0.000000</td>\n",
       "    </tr>\n",
       "  </tbody>\n",
       "</table>\n",
       "</div>"
      ],
      "text/plain": [
       "              missing   percent\n",
       "rez_esc          7928  0.829549\n",
       "v18q1            7342  0.768233\n",
       "v2a1             6860  0.717798\n",
       "SQBmeaned           5  0.000523\n",
       "meaneduc            5  0.000523\n",
       "Id                  0  0.000000\n",
       "hogar_adul          0  0.000000\n",
       "parentesco10        0  0.000000\n",
       "parentesco11        0  0.000000\n",
       "parentesco12        0  0.000000"
      ]
     },
     "execution_count": 10,
     "metadata": {},
     "output_type": "execute_result"
    }
   ],
   "source": [
    "#2.4\tVerify the data quality\n",
    "\n",
    "missing = pd.DataFrame(train.toPandas().isnull().sum()).rename(columns = {0: 'missing'})\n",
    "missing['percent'] = missing['missing'] / len(train.toPandas())\n",
    "missing.sort_values('percent', ascending = False).head(10)"
   ]
  },
  {
   "cell_type": "code",
   "execution_count": 11,
   "metadata": {},
   "outputs": [
    {
     "data": {
      "text/plain": [
       "yes          2192\n",
       "no           1747\n",
       ".5           1497\n",
       "2             730\n",
       "1.5           713\n",
       ".33333334     598\n",
       ".66666669     487\n",
       "8             378\n",
       ".25           260\n",
       "3             236\n",
       "4             100\n",
       ".75            98\n",
       ".2             90\n",
       "1.3333334      84\n",
       ".40000001      84\n",
       "2.5            77\n",
       "5              24\n",
       "1.25           18\n",
       ".80000001      18\n",
       "3.5            18\n",
       "2.25           13\n",
       ".71428573      12\n",
       "1.2            11\n",
       ".83333331      11\n",
       ".22222222      11\n",
       "1.75           11\n",
       ".2857143        9\n",
       "1.6666666       8\n",
       ".60000002       8\n",
       "6               7\n",
       ".16666667       7\n",
       "Name: dependency, dtype: int64"
      ]
     },
     "execution_count": 11,
     "metadata": {},
     "output_type": "execute_result"
    }
   ],
   "source": [
    "train.toPandas()[\"dependency\"].value_counts()"
   ]
  },
  {
   "cell_type": "code",
   "execution_count": 12,
   "metadata": {},
   "outputs": [
    {
     "data": {
      "text/plain": [
       "<matplotlib.axes._subplots.AxesSubplot at 0x7f2df7805cf8>"
      ]
     },
     "execution_count": 12,
     "metadata": {},
     "output_type": "execute_result"
    },
    {
     "data": {
      "image/png": "[encoded data removed]",
      "text/plain": [
       "<Figure size 432x288 with 1 Axes>"
      ]
     },
     "metadata": {},
     "output_type": "display_data"
    }
   ],
   "source": [
    "sns.countplot(\"abastaguano\", data=train.toPandas())"
   ]
  },
  {
   "cell_type": "code",
   "execution_count": 13,
   "metadata": {},
   "outputs": [
    {
     "data": {
      "text/plain": [
       "fd8a6d014    13\n",
       "0c7436de6    12\n",
       "ae6cf0558    12\n",
       "b7a0b59d7    11\n",
       "3fe29a56b    11\n",
       "6b35cdcf0    11\n",
       "4476ccd4c    11\n",
       "6a96a96c0    10\n",
       "7cad2d6c4    10\n",
       "a18c0c0be    10\n",
       "0fc6c05f7    10\n",
       "f2a4cd356    10\n",
       "63f11d6ea    10\n",
       "9d70c1551     9\n",
       "ae489f548     9\n",
       "476b3f2ee     9\n",
       "322cefd2f     9\n",
       "9fd143d1f     9\n",
       "d4e1dc02c     9\n",
       "efec7e82c     9\n",
       "1ed926340     9\n",
       "06ca88023     9\n",
       "d43a04997     9\n",
       "dce01dcc3     8\n",
       "a4a67ad4e     8\n",
       "a32c04257     8\n",
       "1c0b1cbd8     8\n",
       "a2f99b6bc     8\n",
       "493f97dcb     8\n",
       "7b7ebaf70     8\n",
       "             ..\n",
       "bc10778dc     1\n",
       "2414080a4     1\n",
       "30a7d3d70     1\n",
       "cc3b2206b     1\n",
       "508d23af7     1\n",
       "a084df613     1\n",
       "347141a7b     1\n",
       "fdf19ce0c     1\n",
       "2480d7421     1\n",
       "e79405ae7     1\n",
       "2fe198a91     1\n",
       "5e92f4165     1\n",
       "980b28caa     1\n",
       "541c6c76c     1\n",
       "cd3c14d62     1\n",
       "3fe2124d9     1\n",
       "883d03f1f     1\n",
       "e6bf08e4c     1\n",
       "d9281c805     1\n",
       "1bb8a3f9c     1\n",
       "850aca0fa     1\n",
       "a9b2a46ba     1\n",
       "58bac08bf     1\n",
       "1b31fd159     1\n",
       "0aed192d8     1\n",
       "15e096859     1\n",
       "648cfe9a7     1\n",
       "fa5c14ce6     1\n",
       "f9480a013     1\n",
       "668b03bc9     1\n",
       "Name: idhogar, Length: 2988, dtype: int64"
      ]
     },
     "execution_count": 13,
     "metadata": {},
     "output_type": "execute_result"
    }
   ],
   "source": [
    "#3.1.1\tSelect rows\n",
    "\n",
    "train.toPandas()[\"idhogar\"].value_counts()"
   ]
  },
  {
   "cell_type": "code",
   "execution_count": 14,
   "metadata": {},
   "outputs": [
    {
     "data": {
      "text/plain": [
       "0fc6c05f7    10\n",
       "a18c0c0be    10\n",
       "f2a4cd356    10\n",
       "63f11d6ea    10\n",
       "7cad2d6c4    10\n",
       "6a96a96c0    10\n",
       "d4e1dc02c     9\n",
       "9d70c1551     9\n",
       "ae489f548     9\n",
       "efec7e82c     9\n",
       "06ca88023     9\n",
       "476b3f2ee     9\n",
       "9fd143d1f     9\n",
       "d43a04997     9\n",
       "1ed926340     9\n",
       "322cefd2f     9\n",
       "1c0b1cbd8     8\n",
       "8857dd685     8\n",
       "4f2bd02b9     8\n",
       "2f8fab5de     8\n",
       "7b7ebaf70     8\n",
       "a32c04257     8\n",
       "493f97dcb     8\n",
       "a2f99b6bc     8\n",
       "da2ecdcfd     8\n",
       "dce01dcc3     8\n",
       "cd7c2ef1d     8\n",
       "a4a67ad4e     8\n",
       "d4bce9879     7\n",
       "d8ee41fd9     7\n",
       "             ..\n",
       "72f954afb     1\n",
       "6cf060fb0     1\n",
       "5ba48ed17     1\n",
       "a194b02a5     1\n",
       "b594dc788     1\n",
       "508d23af7     1\n",
       "0a3be8b29     1\n",
       "1d3feb611     1\n",
       "49824ca39     1\n",
       "7a883bf28     1\n",
       "21f4ce7c5     1\n",
       "bfb873d3a     1\n",
       "3fe2124d9     1\n",
       "efe685865     1\n",
       "72160432f     1\n",
       "dd93b5a30     1\n",
       "aa2948d67     1\n",
       "29414e990     1\n",
       "1f5ef45bf     1\n",
       "980b28caa     1\n",
       "d2e45f8ad     1\n",
       "1a39f80de     1\n",
       "fdb188780     1\n",
       "347141a7b     1\n",
       "fe30320e4     1\n",
       "b7c4528a0     1\n",
       "5438b3a5e     1\n",
       "ecc08440e     1\n",
       "3a50d6d95     1\n",
       "417dbe72b     1\n",
       "Name: idhogar, Length: 2981, dtype: int64"
      ]
     },
     "execution_count": 14,
     "metadata": {},
     "output_type": "execute_result"
    }
   ],
   "source": [
    "idhogar_counts = train.toPandas()[\"idhogar\"].value_counts()\n",
    "train311 = train.toPandas()[~train.toPandas().idhogar.isin(idhogar_counts.index[idhogar_counts>10])]\n",
    "train311[\"idhogar\"].value_counts()"
   ]
  },
  {
   "cell_type": "code",
   "execution_count": 15,
   "metadata": {},
   "outputs": [
    {
     "data": {
      "text/html": [
       "<div>\n",
       "<style scoped>\n",
       "    .dataframe tbody tr th:only-of-type {\n",
       "        vertical-align: middle;\n",
       "    }\n",
       "\n",
       "    .dataframe tbody tr th {\n",
       "        vertical-align: top;\n",
       "    }\n",
       "\n",
       "    .dataframe thead th {\n",
       "        text-align: right;\n",
       "    }\n",
       "</style>\n",
       "<table border=\"1\" class=\"dataframe\">\n",
       "  <thead>\n",
       "    <tr style=\"text-align: right;\">\n",
       "      <th></th>\n",
       "      <th>v2a1</th>\n",
       "      <th>hacdor</th>\n",
       "      <th>rooms</th>\n",
       "      <th>hacapo</th>\n",
       "      <th>v14a</th>\n",
       "      <th>refrig</th>\n",
       "      <th>v18q</th>\n",
       "      <th>v18q1</th>\n",
       "      <th>r4h1</th>\n",
       "      <th>r4h2</th>\n",
       "      <th>...</th>\n",
       "      <th>lugar1</th>\n",
       "      <th>lugar2</th>\n",
       "      <th>lugar3</th>\n",
       "      <th>lugar4</th>\n",
       "      <th>lugar5</th>\n",
       "      <th>lugar6</th>\n",
       "      <th>area1</th>\n",
       "      <th>area2</th>\n",
       "      <th>age</th>\n",
       "      <th>Target</th>\n",
       "    </tr>\n",
       "  </thead>\n",
       "  <tbody>\n",
       "    <tr>\n",
       "      <th>0</th>\n",
       "      <td>190000.0</td>\n",
       "      <td>0</td>\n",
       "      <td>3</td>\n",
       "      <td>0</td>\n",
       "      <td>1</td>\n",
       "      <td>1</td>\n",
       "      <td>0</td>\n",
       "      <td>NaN</td>\n",
       "      <td>0</td>\n",
       "      <td>1</td>\n",
       "      <td>...</td>\n",
       "      <td>1</td>\n",
       "      <td>0</td>\n",
       "      <td>0</td>\n",
       "      <td>0</td>\n",
       "      <td>0</td>\n",
       "      <td>0</td>\n",
       "      <td>1</td>\n",
       "      <td>0</td>\n",
       "      <td>43</td>\n",
       "      <td>4</td>\n",
       "    </tr>\n",
       "    <tr>\n",
       "      <th>1</th>\n",
       "      <td>135000.0</td>\n",
       "      <td>0</td>\n",
       "      <td>4</td>\n",
       "      <td>0</td>\n",
       "      <td>1</td>\n",
       "      <td>1</td>\n",
       "      <td>1</td>\n",
       "      <td>1.0</td>\n",
       "      <td>0</td>\n",
       "      <td>1</td>\n",
       "      <td>...</td>\n",
       "      <td>1</td>\n",
       "      <td>0</td>\n",
       "      <td>0</td>\n",
       "      <td>0</td>\n",
       "      <td>0</td>\n",
       "      <td>0</td>\n",
       "      <td>1</td>\n",
       "      <td>0</td>\n",
       "      <td>67</td>\n",
       "      <td>4</td>\n",
       "    </tr>\n",
       "    <tr>\n",
       "      <th>2</th>\n",
       "      <td>NaN</td>\n",
       "      <td>0</td>\n",
       "      <td>8</td>\n",
       "      <td>0</td>\n",
       "      <td>1</td>\n",
       "      <td>1</td>\n",
       "      <td>0</td>\n",
       "      <td>NaN</td>\n",
       "      <td>0</td>\n",
       "      <td>0</td>\n",
       "      <td>...</td>\n",
       "      <td>1</td>\n",
       "      <td>0</td>\n",
       "      <td>0</td>\n",
       "      <td>0</td>\n",
       "      <td>0</td>\n",
       "      <td>0</td>\n",
       "      <td>1</td>\n",
       "      <td>0</td>\n",
       "      <td>92</td>\n",
       "      <td>4</td>\n",
       "    </tr>\n",
       "    <tr>\n",
       "      <th>3</th>\n",
       "      <td>180000.0</td>\n",
       "      <td>0</td>\n",
       "      <td>5</td>\n",
       "      <td>0</td>\n",
       "      <td>1</td>\n",
       "      <td>1</td>\n",
       "      <td>1</td>\n",
       "      <td>1.0</td>\n",
       "      <td>0</td>\n",
       "      <td>2</td>\n",
       "      <td>...</td>\n",
       "      <td>1</td>\n",
       "      <td>0</td>\n",
       "      <td>0</td>\n",
       "      <td>0</td>\n",
       "      <td>0</td>\n",
       "      <td>0</td>\n",
       "      <td>1</td>\n",
       "      <td>0</td>\n",
       "      <td>17</td>\n",
       "      <td>4</td>\n",
       "    </tr>\n",
       "    <tr>\n",
       "      <th>4</th>\n",
       "      <td>180000.0</td>\n",
       "      <td>0</td>\n",
       "      <td>5</td>\n",
       "      <td>0</td>\n",
       "      <td>1</td>\n",
       "      <td>1</td>\n",
       "      <td>1</td>\n",
       "      <td>1.0</td>\n",
       "      <td>0</td>\n",
       "      <td>2</td>\n",
       "      <td>...</td>\n",
       "      <td>1</td>\n",
       "      <td>0</td>\n",
       "      <td>0</td>\n",
       "      <td>0</td>\n",
       "      <td>0</td>\n",
       "      <td>0</td>\n",
       "      <td>1</td>\n",
       "      <td>0</td>\n",
       "      <td>37</td>\n",
       "      <td>4</td>\n",
       "    </tr>\n",
       "  </tbody>\n",
       "</table>\n",
       "<p>5 rows × 133 columns</p>\n",
       "</div>"
      ],
      "text/plain": [
       "       v2a1  hacdor  rooms  hacapo  v14a  refrig  v18q  v18q1  r4h1  r4h2  \\\n",
       "0  190000.0       0      3       0     1       1     0    NaN     0     1   \n",
       "1  135000.0       0      4       0     1       1     1    1.0     0     1   \n",
       "2       NaN       0      8       0     1       1     0    NaN     0     0   \n",
       "3  180000.0       0      5       0     1       1     1    1.0     0     2   \n",
       "4  180000.0       0      5       0     1       1     1    1.0     0     2   \n",
       "\n",
       "    ...    lugar1  lugar2  lugar3  lugar4  lugar5  lugar6  area1  area2  age  \\\n",
       "0   ...         1       0       0       0       0       0      1      0   43   \n",
       "1   ...         1       0       0       0       0       0      1      0   67   \n",
       "2   ...         1       0       0       0       0       0      1      0   92   \n",
       "3   ...         1       0       0       0       0       0      1      0   17   \n",
       "4   ...         1       0       0       0       0       0      1      0   37   \n",
       "\n",
       "   Target  \n",
       "0       4  \n",
       "1       4  \n",
       "2       4  \n",
       "3       4  \n",
       "4       4  \n",
       "\n",
       "[5 rows x 133 columns]"
      ]
     },
     "execution_count": 15,
     "metadata": {},
     "output_type": "execute_result"
    }
   ],
   "source": [
    "#3.1.2\tSelect columns\n",
    "\n",
    "train312 = train311.drop(['Id', 'SQBescolari', 'SQBage', 'SQBhogar_total', 'SQBedjefe', 'SQBhogar_nin', 'SQBovercrowding', 'SQBdependency', 'SQBmeaned', 'agesq'], axis=1)\n",
    "train312.head()"
   ]
  },
  {
   "cell_type": "code",
   "execution_count": 16,
   "metadata": {},
   "outputs": [
    {
     "data": {
      "text/html": [
       "<div>\n",
       "<style scoped>\n",
       "    .dataframe tbody tr th:only-of-type {\n",
       "        vertical-align: middle;\n",
       "    }\n",
       "\n",
       "    .dataframe tbody tr th {\n",
       "        vertical-align: top;\n",
       "    }\n",
       "\n",
       "    .dataframe thead th {\n",
       "        text-align: right;\n",
       "    }\n",
       "</style>\n",
       "<table border=\"1\" class=\"dataframe\">\n",
       "  <thead>\n",
       "    <tr style=\"text-align: right;\">\n",
       "      <th></th>\n",
       "      <th>missing</th>\n",
       "      <th>percent</th>\n",
       "    </tr>\n",
       "  </thead>\n",
       "  <tbody>\n",
       "    <tr>\n",
       "      <th>rez_esc</th>\n",
       "      <td>7868</td>\n",
       "      <td>0.830308</td>\n",
       "    </tr>\n",
       "    <tr>\n",
       "      <th>v18q1</th>\n",
       "      <td>7283</td>\n",
       "      <td>0.768573</td>\n",
       "    </tr>\n",
       "    <tr>\n",
       "      <th>v2a1</th>\n",
       "      <td>6803</td>\n",
       "      <td>0.717919</td>\n",
       "    </tr>\n",
       "    <tr>\n",
       "      <th>meaneduc</th>\n",
       "      <td>5</td>\n",
       "      <td>0.000528</td>\n",
       "    </tr>\n",
       "    <tr>\n",
       "      <th>area1</th>\n",
       "      <td>0</td>\n",
       "      <td>0.000000</td>\n",
       "    </tr>\n",
       "    <tr>\n",
       "      <th>parentesco3</th>\n",
       "      <td>0</td>\n",
       "      <td>0.000000</td>\n",
       "    </tr>\n",
       "    <tr>\n",
       "      <th>hogar_mayor</th>\n",
       "      <td>0</td>\n",
       "      <td>0.000000</td>\n",
       "    </tr>\n",
       "    <tr>\n",
       "      <th>hogar_adul</th>\n",
       "      <td>0</td>\n",
       "      <td>0.000000</td>\n",
       "    </tr>\n",
       "    <tr>\n",
       "      <th>hogar_nin</th>\n",
       "      <td>0</td>\n",
       "      <td>0.000000</td>\n",
       "    </tr>\n",
       "    <tr>\n",
       "      <th>idhogar</th>\n",
       "      <td>0</td>\n",
       "      <td>0.000000</td>\n",
       "    </tr>\n",
       "  </tbody>\n",
       "</table>\n",
       "</div>"
      ],
      "text/plain": [
       "             missing   percent\n",
       "rez_esc         7868  0.830308\n",
       "v18q1           7283  0.768573\n",
       "v2a1            6803  0.717919\n",
       "meaneduc           5  0.000528\n",
       "area1              0  0.000000\n",
       "parentesco3        0  0.000000\n",
       "hogar_mayor        0  0.000000\n",
       "hogar_adul         0  0.000000\n",
       "hogar_nin          0  0.000000\n",
       "idhogar            0  0.000000"
      ]
     },
     "execution_count": 16,
     "metadata": {},
     "output_type": "execute_result"
    }
   ],
   "source": [
    "#3.2.1\tMissing values\n",
    "\n",
    "missing = pd.DataFrame(train312.isnull().sum()).rename(columns = {0: 'missing'})\n",
    "missing['percent'] = missing['missing'] / len(train312)\n",
    "missing.sort_values('percent', ascending = False).head(10)"
   ]
  },
  {
   "cell_type": "code",
   "execution_count": 17,
   "metadata": {},
   "outputs": [
    {
     "data": {
      "text/html": [
       "<div>\n",
       "<style scoped>\n",
       "    .dataframe tbody tr th:only-of-type {\n",
       "        vertical-align: middle;\n",
       "    }\n",
       "\n",
       "    .dataframe tbody tr th {\n",
       "        vertical-align: top;\n",
       "    }\n",
       "\n",
       "    .dataframe thead th {\n",
       "        text-align: right;\n",
       "    }\n",
       "</style>\n",
       "<table border=\"1\" class=\"dataframe\">\n",
       "  <thead>\n",
       "    <tr style=\"text-align: right;\">\n",
       "      <th></th>\n",
       "      <th>missing</th>\n",
       "      <th>percent</th>\n",
       "    </tr>\n",
       "  </thead>\n",
       "  <tbody>\n",
       "    <tr>\n",
       "      <th>meaneduc</th>\n",
       "      <td>5</td>\n",
       "      <td>0.000528</td>\n",
       "    </tr>\n",
       "    <tr>\n",
       "      <th>hacdor</th>\n",
       "      <td>0</td>\n",
       "      <td>0.000000</td>\n",
       "    </tr>\n",
       "    <tr>\n",
       "      <th>parentesco4</th>\n",
       "      <td>0</td>\n",
       "      <td>0.000000</td>\n",
       "    </tr>\n",
       "    <tr>\n",
       "      <th>hogar_total</th>\n",
       "      <td>0</td>\n",
       "      <td>0.000000</td>\n",
       "    </tr>\n",
       "    <tr>\n",
       "      <th>hogar_mayor</th>\n",
       "      <td>0</td>\n",
       "      <td>0.000000</td>\n",
       "    </tr>\n",
       "    <tr>\n",
       "      <th>hogar_adul</th>\n",
       "      <td>0</td>\n",
       "      <td>0.000000</td>\n",
       "    </tr>\n",
       "    <tr>\n",
       "      <th>hogar_nin</th>\n",
       "      <td>0</td>\n",
       "      <td>0.000000</td>\n",
       "    </tr>\n",
       "    <tr>\n",
       "      <th>idhogar</th>\n",
       "      <td>0</td>\n",
       "      <td>0.000000</td>\n",
       "    </tr>\n",
       "    <tr>\n",
       "      <th>parentesco12</th>\n",
       "      <td>0</td>\n",
       "      <td>0.000000</td>\n",
       "    </tr>\n",
       "    <tr>\n",
       "      <th>parentesco11</th>\n",
       "      <td>0</td>\n",
       "      <td>0.000000</td>\n",
       "    </tr>\n",
       "  </tbody>\n",
       "</table>\n",
       "</div>"
      ],
      "text/plain": [
       "              missing   percent\n",
       "meaneduc            5  0.000528\n",
       "hacdor              0  0.000000\n",
       "parentesco4         0  0.000000\n",
       "hogar_total         0  0.000000\n",
       "hogar_mayor         0  0.000000\n",
       "hogar_adul          0  0.000000\n",
       "hogar_nin           0  0.000000\n",
       "idhogar             0  0.000000\n",
       "parentesco12        0  0.000000\n",
       "parentesco11        0  0.000000"
      ]
     },
     "execution_count": 17,
     "metadata": {},
     "output_type": "execute_result"
    }
   ],
   "source": [
    "train321 = train312.drop(['rez_esc', 'v18q1', 'v2a1'], axis=1)\n",
    "missing = pd.DataFrame(train321.isnull().sum()).rename(columns = {0: 'missing'})\n",
    "missing['percent'] = missing['missing'] / len(train321)\n",
    "missing.sort_values('percent', ascending = False).head(10)"
   ]
  },
  {
   "cell_type": "code",
   "execution_count": 18,
   "metadata": {},
   "outputs": [
    {
     "data": {
      "text/plain": [
       "(9476, 130)"
      ]
     },
     "execution_count": 18,
     "metadata": {},
     "output_type": "execute_result"
    }
   ],
   "source": [
    "train321.shape"
   ]
  },
  {
   "cell_type": "code",
   "execution_count": 19,
   "metadata": {},
   "outputs": [
    {
     "data": {
      "text/plain": [
       "(9471, 130)"
      ]
     },
     "execution_count": 19,
     "metadata": {},
     "output_type": "execute_result"
    }
   ],
   "source": [
    "train321 = train321.dropna(axis=0, how='any', inplace=False)\n",
    "train321.shape"
   ]
  },
  {
   "cell_type": "code",
   "execution_count": 20,
   "metadata": {},
   "outputs": [
    {
     "data": {
      "text/plain": [
       "(array([6690.,    0., 2118.,    0.,  585.,    0.,   53.,    0.,   16.,\n",
       "           9.]),\n",
       " array([0. , 0.5, 1. , 1.5, 2. , 2.5, 3. , 3.5, 4. , 4.5, 5. ]),\n",
       " <a list of 10 Patch objects>)"
      ]
     },
     "execution_count": 20,
     "metadata": {},
     "output_type": "execute_result"
    },
    {
     "data": {
      "image/png": "[encoded data removed]",
      "text/plain": [
       "<Figure size 432x288 with 1 Axes>"
      ]
     },
     "metadata": {},
     "output_type": "display_data"
    }
   ],
   "source": [
    "#3.2.2\tOutliers and extreme values\n",
    "\n",
    "import matplotlib.pyplot as plt\n",
    "plt.hist(train321['r4h1'])"
   ]
  },
  {
   "cell_type": "code",
   "execution_count": 21,
   "metadata": {},
   "outputs": [
    {
     "data": {
      "text/plain": [
       "(array([ 950., 3596., 2161., 1989.,  452.,   69.,  114.,   26.,   74.,\n",
       "          40.]),\n",
       " array([0.25 , 0.825, 1.4  , 1.975, 2.55 , 3.125, 3.7  , 4.275, 4.85 ,\n",
       "        5.425, 6.   ]),\n",
       " <a list of 10 Patch objects>)"
      ]
     },
     "execution_count": 21,
     "metadata": {},
     "output_type": "execute_result"
    },
    {
     "data": {
      "image/png": "[encoded data removed]",
      "text/plain": [
       "<Figure size 432x288 with 1 Axes>"
      ]
     },
     "metadata": {},
     "output_type": "display_data"
    }
   ],
   "source": [
    "plt.hist(train321['overcrowding'])\n"
   ]
  },
  {
   "cell_type": "code",
   "execution_count": 22,
   "metadata": {},
   "outputs": [
    {
     "data": {
      "text/plain": [
       "(array([4985., 2541., 1381.,    0.,  406.,   92.,    0.,   48.,    0.,\n",
       "          18.]),\n",
       " array([0. , 0.7, 1.4, 2.1, 2.8, 3.5, 4.2, 4.9, 5.6, 6.3, 7. ]),\n",
       " <a list of 10 Patch objects>)"
      ]
     },
     "execution_count": 22,
     "metadata": {},
     "output_type": "execute_result"
    },
    {
     "data": {
      "image/png": "[encoded data removed]",
      "text/plain": [
       "<Figure size 432x288 with 1 Axes>"
      ]
     },
     "metadata": {},
     "output_type": "display_data"
    }
   ],
   "source": [
    "plt.hist(train321['r4t1'])"
   ]
  },
  {
   "cell_type": "code",
   "execution_count": 23,
   "metadata": {},
   "outputs": [
    {
     "data": {
      "text/plain": [
       "4     2400\n",
       "3     2206\n",
       "5     1627\n",
       "2     1316\n",
       "6      868\n",
       "7      384\n",
       "1      354\n",
       "8      111\n",
       "9       98\n",
       "10      70\n",
       "13      17\n",
       "11      11\n",
       "15       9\n",
       "Name: tamviv, dtype: int64"
      ]
     },
     "execution_count": 23,
     "metadata": {},
     "output_type": "execute_result"
    },
    {
     "data": {
      "image/png": "[encoded data removed]",
      "text/plain": [
       "<Figure size 432x288 with 1 Axes>"
      ]
     },
     "metadata": {},
     "output_type": "display_data"
    }
   ],
   "source": [
    "plt.hist(train321['tamviv'])\n",
    "train321['tamviv'].value_counts()"
   ]
  },
  {
   "cell_type": "code",
   "execution_count": 24,
   "metadata": {},
   "outputs": [
    {
     "data": {
      "text/plain": [
       "(array([6.870e+02, 2.623e+03, 3.518e+03, 1.664e+03, 7.650e+02, 1.630e+02,\n",
       "        3.200e+01, 1.400e+01, 2.000e+00, 3.000e+00]),\n",
       " array([ 0. ,  3.7,  7.4, 11.1, 14.8, 18.5, 22.2, 25.9, 29.6, 33.3, 37. ]),\n",
       " <a list of 10 Patch objects>)"
      ]
     },
     "execution_count": 24,
     "metadata": {},
     "output_type": "execute_result"
    },
    {
     "data": {
      "image/png": "[encoded data removed]",
      "text/plain": [
       "<Figure size 432x288 with 1 Axes>"
      ]
     },
     "metadata": {},
     "output_type": "display_data"
    }
   ],
   "source": [
    "plt.hist(train321['meaneduc'])"
   ]
  },
  {
   "cell_type": "code",
   "execution_count": 25,
   "metadata": {},
   "outputs": [
    {
     "data": {
      "text/plain": [
       "(array([ 255.,  656., 1703., 1946., 1722., 1358., 1040.,  524.,  132.,\n",
       "          67.]),\n",
       " array([ 0.  ,  2.15,  4.3 ,  6.45,  8.6 , 10.75, 12.9 , 15.05, 17.2 ,\n",
       "        19.35, 21.5 ]),\n",
       " <a list of 10 Patch objects>)"
      ]
     },
     "execution_count": 25,
     "metadata": {},
     "output_type": "execute_result"
    },
    {
     "data": {
      "image/png": "[encoded data removed]",
      "text/plain": [
       "<Figure size 432x288 with 1 Axes>"
      ]
     },
     "metadata": {},
     "output_type": "display_data"
    }
   ],
   "source": [
    "train322 = train321.loc[train321['meaneduc']<train321['meaneduc'].mean()+3*train321['meaneduc'].std()]\n",
    "plt.hist(train322['meaneduc'])"
   ]
  },
  {
   "cell_type": "code",
   "execution_count": 26,
   "metadata": {},
   "outputs": [
    {
     "data": {
      "text/plain": [
       "(9296, 130)"
      ]
     },
     "execution_count": 26,
     "metadata": {},
     "output_type": "execute_result"
    }
   ],
   "source": [
    "train322 = train322.loc[train322['tamviv']<train322['tamviv'].mean()+3*train322['tamviv'].std()]\n",
    "train322.shape"
   ]
  },
  {
   "cell_type": "code",
   "execution_count": 27,
   "metadata": {},
   "outputs": [
    {
     "data": {
      "text/plain": [
       "no     3614\n",
       "6      1816\n",
       "11      746\n",
       "9       467\n",
       "3       307\n",
       "15      282\n",
       "8       247\n",
       "7       224\n",
       "5       222\n",
       "14      197\n",
       "2       194\n",
       "17      190\n",
       "4       135\n",
       "16      134\n",
       "yes     123\n",
       "12      111\n",
       "10      111\n",
       "13      103\n",
       "21       33\n",
       "18       19\n",
       "19       14\n",
       "20        7\n",
       "Name: edjefe, dtype: int64"
      ]
     },
     "execution_count": 27,
     "metadata": {},
     "output_type": "execute_result"
    }
   ],
   "source": [
    "#3.2.3\tErrors\n",
    "\n",
    "train322['edjefe'].value_counts()"
   ]
  },
  {
   "cell_type": "code",
   "execution_count": 28,
   "metadata": {},
   "outputs": [
    {
     "name": "stderr",
     "output_type": "stream",
     "text": [
      "/home/ubuntu/.local/lib/python3.5/site-packages/ipykernel_launcher.py:3: SettingWithCopyWarning: \n",
      "A value is trying to be set on a copy of a slice from a DataFrame\n",
      "\n",
      "See the caveats in the documentation: http://pandas.pydata.org/pandas-docs/stable/indexing.html#indexing-view-versus-copy\n",
      "  This is separate from the ipykernel package so we can avoid doing imports until\n"
     ]
    },
    {
     "data": {
      "text/plain": [
       "0     3614\n",
       "6     1816\n",
       "11     746\n",
       "9      467\n",
       "3      307\n",
       "15     282\n",
       "8      247\n",
       "7      224\n",
       "5      222\n",
       "14     197\n",
       "2      194\n",
       "17     190\n",
       "4      135\n",
       "16     134\n",
       "1      123\n",
       "12     111\n",
       "10     111\n",
       "13     103\n",
       "21      33\n",
       "18      19\n",
       "19      14\n",
       "20       7\n",
       "Name: edjefe, dtype: int64"
      ]
     },
     "execution_count": 28,
     "metadata": {},
     "output_type": "execute_result"
    }
   ],
   "source": [
    "train323 = train322\n",
    "train323['edjefe'][train323['edjefe']=='no']='0'\n",
    "train323['edjefe'][train323['edjefe']=='yes']='1'\n",
    "train323['edjefe'].value_counts()"
   ]
  },
  {
   "cell_type": "code",
   "execution_count": 29,
   "metadata": {},
   "outputs": [
    {
     "name": "stderr",
     "output_type": "stream",
     "text": [
      "/home/ubuntu/.local/lib/python3.5/site-packages/ipykernel_launcher.py:2: SettingWithCopyWarning: \n",
      "A value is trying to be set on a copy of a slice from a DataFrame\n",
      "\n",
      "See the caveats in the documentation: http://pandas.pydata.org/pandas-docs/stable/indexing.html#indexing-view-versus-copy\n",
      "  \n"
     ]
    },
    {
     "data": {
      "text/plain": [
       "0     6081\n",
       "6      933\n",
       "11     382\n",
       "9      232\n",
       "8      217\n",
       "15     179\n",
       "7      166\n",
       "5      156\n",
       "3      152\n",
       "4      125\n",
       "14     113\n",
       "16     106\n",
       "10      92\n",
       "2       84\n",
       "17      74\n",
       "1       69\n",
       "12      69\n",
       "13      52\n",
       "21       5\n",
       "19       4\n",
       "18       3\n",
       "20       2\n",
       "Name: edjefa, dtype: int64"
      ]
     },
     "execution_count": 29,
     "metadata": {},
     "output_type": "execute_result"
    }
   ],
   "source": [
    "train323['edjefa'][train323['edjefa']=='no']='0'\n",
    "train323['edjefa'][train323['edjefa']=='yes']='1'\n",
    "train323['edjefa'].value_counts()"
   ]
  },
  {
   "cell_type": "code",
   "execution_count": 30,
   "metadata": {},
   "outputs": [
    {
     "data": {
      "text/plain": [
       "yes          2142\n",
       "no           1744\n",
       ".5           1491\n",
       "2             695\n",
       "1.5           693\n",
       ".33333334     594\n",
       ".66666669     467\n",
       "8             373\n",
       ".25           250\n",
       "3             228\n",
       ".75            98\n",
       ".2             90\n",
       "4              85\n",
       ".40000001      84\n",
       "1.3333334      77\n",
       "2.5            77\n",
       "5              24\n",
       "3.5            18\n",
       "1.25           18\n",
       ".2857143        9\n",
       ".80000001       9\n",
       "1.6666666       8\n",
       ".60000002       8\n",
       "6               7\n",
       ".16666667       7\n",
       "Name: dependency, dtype: int64"
      ]
     },
     "execution_count": 30,
     "metadata": {},
     "output_type": "execute_result"
    }
   ],
   "source": [
    "#3.3\tConstruct the data\n",
    "train323['dependency'].value_counts()"
   ]
  },
  {
   "cell_type": "code",
   "execution_count": 31,
   "metadata": {},
   "outputs": [],
   "source": [
    "train33=train323"
   ]
  },
  {
   "cell_type": "code",
   "execution_count": 32,
   "metadata": {},
   "outputs": [
    {
     "data": {
      "text/plain": [
       "(array([1744.,   97.,  937., 1499.,  574., 2930.,  703.,  323.,  125.,\n",
       "         364.]),\n",
       " array([0. , 0.1, 0.2, 0.3, 0.4, 0.5, 0.6, 0.7, 0.8, 0.9, 1. ]),\n",
       " <a list of 10 Patch objects>)"
      ]
     },
     "execution_count": 32,
     "metadata": {},
     "output_type": "execute_result"
    },
    {
     "data": {
      "image/png": "[encoded data removed]",
      "text/plain": [
       "<Figure size 432x288 with 1 Axes>"
      ]
     },
     "metadata": {},
     "output_type": "display_data"
    }
   ],
   "source": [
    "train33['dependency_rate'] = (train33['hogar_nin']+train33['hogar_mayor'])/train33['hogar_total']\n",
    "plt.hist(train33['dependency_rate'])"
   ]
  },
  {
   "cell_type": "code",
   "execution_count": 33,
   "metadata": {},
   "outputs": [
    {
     "data": {
      "text/html": [
       "<div>\n",
       "<style scoped>\n",
       "    .dataframe tbody tr th:only-of-type {\n",
       "        vertical-align: middle;\n",
       "    }\n",
       "\n",
       "    .dataframe tbody tr th {\n",
       "        vertical-align: top;\n",
       "    }\n",
       "\n",
       "    .dataframe thead th {\n",
       "        text-align: right;\n",
       "    }\n",
       "</style>\n",
       "<table border=\"1\" class=\"dataframe\">\n",
       "  <thead>\n",
       "    <tr style=\"text-align: right;\">\n",
       "      <th></th>\n",
       "      <th>idhogar</th>\n",
       "      <th>target</th>\n",
       "    </tr>\n",
       "  </thead>\n",
       "  <tbody>\n",
       "    <tr>\n",
       "      <th>0</th>\n",
       "      <td>21eb7fcc1</td>\n",
       "      <td>4</td>\n",
       "    </tr>\n",
       "    <tr>\n",
       "      <th>1</th>\n",
       "      <td>0e5d7a658</td>\n",
       "      <td>4</td>\n",
       "    </tr>\n",
       "    <tr>\n",
       "      <th>2</th>\n",
       "      <td>2c7317ea8</td>\n",
       "      <td>4</td>\n",
       "    </tr>\n",
       "    <tr>\n",
       "      <th>5</th>\n",
       "      <td>2b58d945f</td>\n",
       "      <td>4</td>\n",
       "    </tr>\n",
       "    <tr>\n",
       "      <th>8</th>\n",
       "      <td>d6dae86b7</td>\n",
       "      <td>4</td>\n",
       "    </tr>\n",
       "  </tbody>\n",
       "</table>\n",
       "</div>"
      ],
      "text/plain": [
       "     idhogar  target\n",
       "0  21eb7fcc1       4\n",
       "1  0e5d7a658       4\n",
       "2  2c7317ea8       4\n",
       "5  2b58d945f       4\n",
       "8  d6dae86b7       4"
      ]
     },
     "execution_count": 33,
     "metadata": {},
     "output_type": "execute_result"
    }
   ],
   "source": [
    "#3.4\tIntegrate various data sources\n",
    "\n",
    "train_househead = train33[train33.parentesco1==1][['idhogar','Target']]\n",
    "train_househead.rename(columns={'Target':'target'}, inplace = True)\n",
    "train_househead.head()"
   ]
  },
  {
   "cell_type": "code",
   "execution_count": 34,
   "metadata": {},
   "outputs": [
    {
     "name": "stderr",
     "output_type": "stream",
     "text": [
      "/home/ubuntu/.local/lib/python3.5/site-packages/ipykernel_launcher.py:6: SettingWithCopyWarning: \n",
      "A value is trying to be set on a copy of a slice from a DataFrame\n",
      "\n",
      "See the caveats in the documentation: http://pandas.pydata.org/pandas-docs/stable/indexing.html#indexing-view-versus-copy\n",
      "  \n"
     ]
    },
    {
     "data": {
      "text/plain": [
       "4.0    5862\n",
       "2.0    1517\n",
       "3.0    1178\n",
       "1.0     739\n",
       "Name: target, dtype: int64"
      ]
     },
     "execution_count": 34,
     "metadata": {},
     "output_type": "execute_result"
    }
   ],
   "source": [
    "train34 = pd.merge(train33, train_househead, how='left', on='idhogar')\n",
    "\n",
    "#train34[train34.target.isna()][['Target','target']]\n",
    "notin = train33[~train33.idhogar.isin(train_househead.idhogar)]['idhogar']\n",
    "#train34[train34.idhogar.isin(notin)][['Target','target']]\n",
    "train34['target'][train34.idhogar.isin(notin)] = train34[train34.idhogar.isin(notin)].Target\n",
    "#train34[train34.idhogar.isin(notin)][['Target','target']]\n",
    "\n",
    "train34['target'].value_counts()\n"
   ]
  },
  {
   "cell_type": "code",
   "execution_count": 35,
   "metadata": {},
   "outputs": [
    {
     "data": {
      "text/html": [
       "<div>\n",
       "<style scoped>\n",
       "    .dataframe tbody tr th:only-of-type {\n",
       "        vertical-align: middle;\n",
       "    }\n",
       "\n",
       "    .dataframe tbody tr th {\n",
       "        vertical-align: top;\n",
       "    }\n",
       "\n",
       "    .dataframe thead th {\n",
       "        text-align: right;\n",
       "    }\n",
       "</style>\n",
       "<table border=\"1\" class=\"dataframe\">\n",
       "  <thead>\n",
       "    <tr style=\"text-align: right;\">\n",
       "      <th></th>\n",
       "      <th>edjefe</th>\n",
       "      <th>edjefa</th>\n",
       "      <th>target</th>\n",
       "    </tr>\n",
       "  </thead>\n",
       "  <tbody>\n",
       "    <tr>\n",
       "      <th>0</th>\n",
       "      <td>10</td>\n",
       "      <td>0</td>\n",
       "      <td>4</td>\n",
       "    </tr>\n",
       "    <tr>\n",
       "      <th>1</th>\n",
       "      <td>12</td>\n",
       "      <td>0</td>\n",
       "      <td>4</td>\n",
       "    </tr>\n",
       "    <tr>\n",
       "      <th>2</th>\n",
       "      <td>0</td>\n",
       "      <td>11</td>\n",
       "      <td>4</td>\n",
       "    </tr>\n",
       "    <tr>\n",
       "      <th>3</th>\n",
       "      <td>11</td>\n",
       "      <td>0</td>\n",
       "      <td>4</td>\n",
       "    </tr>\n",
       "    <tr>\n",
       "      <th>4</th>\n",
       "      <td>11</td>\n",
       "      <td>0</td>\n",
       "      <td>4</td>\n",
       "    </tr>\n",
       "    <tr>\n",
       "      <th>5</th>\n",
       "      <td>11</td>\n",
       "      <td>0</td>\n",
       "      <td>4</td>\n",
       "    </tr>\n",
       "    <tr>\n",
       "      <th>6</th>\n",
       "      <td>11</td>\n",
       "      <td>0</td>\n",
       "      <td>4</td>\n",
       "    </tr>\n",
       "    <tr>\n",
       "      <th>7</th>\n",
       "      <td>9</td>\n",
       "      <td>0</td>\n",
       "      <td>4</td>\n",
       "    </tr>\n",
       "    <tr>\n",
       "      <th>8</th>\n",
       "      <td>9</td>\n",
       "      <td>0</td>\n",
       "      <td>4</td>\n",
       "    </tr>\n",
       "    <tr>\n",
       "      <th>9</th>\n",
       "      <td>9</td>\n",
       "      <td>0</td>\n",
       "      <td>4</td>\n",
       "    </tr>\n",
       "  </tbody>\n",
       "</table>\n",
       "</div>"
      ],
      "text/plain": [
       "   edjefe  edjefa  target\n",
       "0      10       0       4\n",
       "1      12       0       4\n",
       "2       0      11       4\n",
       "3      11       0       4\n",
       "4      11       0       4\n",
       "5      11       0       4\n",
       "6      11       0       4\n",
       "7       9       0       4\n",
       "8       9       0       4\n",
       "9       9       0       4"
      ]
     },
     "execution_count": 35,
     "metadata": {},
     "output_type": "execute_result"
    }
   ],
   "source": [
    "#3.5\tFormat the data as required\n",
    "train35 = train34\n",
    "train35['edjefe'] = train35['edjefe'].astype('int')\n",
    "train35['edjefa'] = train35['edjefa'].astype('int')\n",
    "train35['target'] = train35['target'].astype('int')\n",
    "train35 = train35.drop(['dependency', 'Target', 'idhogar'], axis=1)\n",
    "\n",
    "train35[['edjefe','edjefa','target']].head(10)"
   ]
  },
  {
   "cell_type": "code",
   "execution_count": 38,
   "metadata": {},
   "outputs": [],
   "source": [
    "#4.1\tReduce the data\n",
    "cor = train35.corr()"
   ]
  },
  {
   "cell_type": "code",
   "execution_count": 39,
   "metadata": {},
   "outputs": [
    {
     "data": {
      "text/plain": [
       "target             1.000000\n",
       "meaneduc           0.354260\n",
       "hogar_nin          0.321000\n",
       "cielorazo          0.309145\n",
       "escolari           0.307132\n",
       "r4t1               0.304920\n",
       "epared3            0.301757\n",
       "dependency_rate    0.300991\n",
       "eviv3              0.299340\n",
       "overcrowding       0.288181\n",
       "pisomoscer         0.283881\n",
       "etecho3            0.265908\n",
       "paredblolad        0.259908\n",
       "edjefe             0.249817\n",
       "r4m1               0.247578\n",
       "v18q               0.237355\n",
       "rooms              0.228766\n",
       "instlevel8         0.217168\n",
       "qmobilephone       0.213707\n",
       "eviv1              0.213146\n",
       "epared1            0.211957\n",
       "r4h1               0.209251\n",
       "pisocemento        0.206747\n",
       "etecho1            0.200782\n",
       "computer           0.185151\n",
       "eviv2              0.182789\n",
       "lugar1             0.182032\n",
       "epared2            0.181862\n",
       "hogar_adul         0.180718\n",
       "energcocinar4      0.176571\n",
       "                     ...   \n",
       "techootro          0.032637\n",
       "edjefa             0.029666\n",
       "paredzinc          0.028782\n",
       "parentesco11       0.025579\n",
       "instlevel3         0.025474\n",
       "elimbasu6          0.024660\n",
       "parentesco12       0.022503\n",
       "pisoother          0.021352\n",
       "lugar2             0.020103\n",
       "parentesco4        0.019006\n",
       "instlevel4         0.018546\n",
       "sanitario6         0.017664\n",
       "r4m2               0.016938\n",
       "tipovivi3          0.016464\n",
       "techoentrepiso     0.016037\n",
       "hogar_mayor        0.015610\n",
       "parentesco5        0.013797\n",
       "public             0.012778\n",
       "tipovivi1          0.010116\n",
       "parentesco9        0.010055\n",
       "estadocivil7       0.009961\n",
       "parentesco8        0.008389\n",
       "parentesco10       0.007760\n",
       "estadocivil6       0.005812\n",
       "parentesco7        0.002865\n",
       "instlevel6         0.001751\n",
       "paredother         0.000874\n",
       "coopele            0.000462\n",
       "planpri            0.000444\n",
       "elimbasu5               NaN\n",
       "Name: target, Length: 129, dtype: float64"
      ]
     },
     "execution_count": 39,
     "metadata": {},
     "output_type": "execute_result"
    }
   ],
   "source": [
    "cor_target = abs(cor[\"target\"]).sort_values(ascending=False)\n",
    "cor_target"
   ]
  },
  {
   "cell_type": "code",
   "execution_count": 38,
   "metadata": {},
   "outputs": [
    {
     "data": {
      "text/plain": [
       "Index(['target', 'meaneduc', 'hogar_nin', 'cielorazo', 'escolari', 'r4t1',\n",
       "       'epared3', 'dependency_rate', 'eviv3', 'overcrowding', 'pisomoscer',\n",
       "       'etecho3', 'paredblolad', 'edjefe', 'r4m1', 'v18q', 'rooms',\n",
       "       'instlevel8', 'qmobilephone', 'eviv1', 'epared1', 'r4h1', 'pisocemento',\n",
       "       'etecho1'],\n",
       "      dtype='object')"
      ]
     },
     "execution_count": 38,
     "metadata": {},
     "output_type": "execute_result"
    }
   ],
   "source": [
    "cor_target[cor_target>0.2].index"
   ]
  },
  {
   "cell_type": "code",
   "execution_count": 40,
   "metadata": {},
   "outputs": [
    {
     "data": {
      "text/html": [
       "<div>\n",
       "<style scoped>\n",
       "    .dataframe tbody tr th:only-of-type {\n",
       "        vertical-align: middle;\n",
       "    }\n",
       "\n",
       "    .dataframe tbody tr th {\n",
       "        vertical-align: top;\n",
       "    }\n",
       "\n",
       "    .dataframe thead th {\n",
       "        text-align: right;\n",
       "    }\n",
       "</style>\n",
       "<table border=\"1\" class=\"dataframe\">\n",
       "  <thead>\n",
       "    <tr style=\"text-align: right;\">\n",
       "      <th></th>\n",
       "      <th>rooms</th>\n",
       "      <th>v18q</th>\n",
       "      <th>r4h1</th>\n",
       "      <th>r4m1</th>\n",
       "      <th>r4t1</th>\n",
       "      <th>escolari</th>\n",
       "      <th>paredblolad</th>\n",
       "      <th>pisomoscer</th>\n",
       "      <th>pisocemento</th>\n",
       "      <th>cielorazo</th>\n",
       "      <th>...</th>\n",
       "      <th>eviv1</th>\n",
       "      <th>eviv3</th>\n",
       "      <th>hogar_nin</th>\n",
       "      <th>edjefe</th>\n",
       "      <th>meaneduc</th>\n",
       "      <th>instlevel8</th>\n",
       "      <th>overcrowding</th>\n",
       "      <th>qmobilephone</th>\n",
       "      <th>dependency_rate</th>\n",
       "      <th>target</th>\n",
       "    </tr>\n",
       "  </thead>\n",
       "  <tbody>\n",
       "    <tr>\n",
       "      <th>0</th>\n",
       "      <td>3</td>\n",
       "      <td>0</td>\n",
       "      <td>0</td>\n",
       "      <td>0</td>\n",
       "      <td>0</td>\n",
       "      <td>10</td>\n",
       "      <td>1</td>\n",
       "      <td>1</td>\n",
       "      <td>0</td>\n",
       "      <td>1</td>\n",
       "      <td>...</td>\n",
       "      <td>1</td>\n",
       "      <td>0</td>\n",
       "      <td>0</td>\n",
       "      <td>10</td>\n",
       "      <td>10.0</td>\n",
       "      <td>0</td>\n",
       "      <td>1.000000</td>\n",
       "      <td>1</td>\n",
       "      <td>0.0</td>\n",
       "      <td>4</td>\n",
       "    </tr>\n",
       "    <tr>\n",
       "      <th>1</th>\n",
       "      <td>4</td>\n",
       "      <td>1</td>\n",
       "      <td>0</td>\n",
       "      <td>0</td>\n",
       "      <td>0</td>\n",
       "      <td>12</td>\n",
       "      <td>0</td>\n",
       "      <td>0</td>\n",
       "      <td>0</td>\n",
       "      <td>1</td>\n",
       "      <td>...</td>\n",
       "      <td>0</td>\n",
       "      <td>0</td>\n",
       "      <td>0</td>\n",
       "      <td>12</td>\n",
       "      <td>12.0</td>\n",
       "      <td>1</td>\n",
       "      <td>1.000000</td>\n",
       "      <td>1</td>\n",
       "      <td>1.0</td>\n",
       "      <td>4</td>\n",
       "    </tr>\n",
       "    <tr>\n",
       "      <th>2</th>\n",
       "      <td>8</td>\n",
       "      <td>0</td>\n",
       "      <td>0</td>\n",
       "      <td>0</td>\n",
       "      <td>0</td>\n",
       "      <td>11</td>\n",
       "      <td>0</td>\n",
       "      <td>1</td>\n",
       "      <td>0</td>\n",
       "      <td>1</td>\n",
       "      <td>...</td>\n",
       "      <td>0</td>\n",
       "      <td>1</td>\n",
       "      <td>0</td>\n",
       "      <td>0</td>\n",
       "      <td>11.0</td>\n",
       "      <td>0</td>\n",
       "      <td>0.500000</td>\n",
       "      <td>0</td>\n",
       "      <td>1.0</td>\n",
       "      <td>4</td>\n",
       "    </tr>\n",
       "    <tr>\n",
       "      <th>3</th>\n",
       "      <td>5</td>\n",
       "      <td>1</td>\n",
       "      <td>0</td>\n",
       "      <td>1</td>\n",
       "      <td>1</td>\n",
       "      <td>9</td>\n",
       "      <td>1</td>\n",
       "      <td>1</td>\n",
       "      <td>0</td>\n",
       "      <td>1</td>\n",
       "      <td>...</td>\n",
       "      <td>0</td>\n",
       "      <td>1</td>\n",
       "      <td>2</td>\n",
       "      <td>11</td>\n",
       "      <td>11.0</td>\n",
       "      <td>0</td>\n",
       "      <td>1.333333</td>\n",
       "      <td>3</td>\n",
       "      <td>0.5</td>\n",
       "      <td>4</td>\n",
       "    </tr>\n",
       "    <tr>\n",
       "      <th>4</th>\n",
       "      <td>5</td>\n",
       "      <td>1</td>\n",
       "      <td>0</td>\n",
       "      <td>1</td>\n",
       "      <td>1</td>\n",
       "      <td>11</td>\n",
       "      <td>1</td>\n",
       "      <td>1</td>\n",
       "      <td>0</td>\n",
       "      <td>1</td>\n",
       "      <td>...</td>\n",
       "      <td>0</td>\n",
       "      <td>1</td>\n",
       "      <td>2</td>\n",
       "      <td>11</td>\n",
       "      <td>11.0</td>\n",
       "      <td>0</td>\n",
       "      <td>1.333333</td>\n",
       "      <td>3</td>\n",
       "      <td>0.5</td>\n",
       "      <td>4</td>\n",
       "    </tr>\n",
       "  </tbody>\n",
       "</table>\n",
       "<p>5 rows × 24 columns</p>\n",
       "</div>"
      ],
      "text/plain": [
       "   rooms  v18q  r4h1  r4m1  r4t1  escolari  paredblolad  pisomoscer  \\\n",
       "0      3     0     0     0     0        10            1           1   \n",
       "1      4     1     0     0     0        12            0           0   \n",
       "2      8     0     0     0     0        11            0           1   \n",
       "3      5     1     0     1     1         9            1           1   \n",
       "4      5     1     0     1     1        11            1           1   \n",
       "\n",
       "   pisocemento  cielorazo   ...    eviv1  eviv3  hogar_nin  edjefe  meaneduc  \\\n",
       "0            0          1   ...        1      0          0      10      10.0   \n",
       "1            0          1   ...        0      0          0      12      12.0   \n",
       "2            0          1   ...        0      1          0       0      11.0   \n",
       "3            0          1   ...        0      1          2      11      11.0   \n",
       "4            0          1   ...        0      1          2      11      11.0   \n",
       "\n",
       "   instlevel8  overcrowding  qmobilephone  dependency_rate  target  \n",
       "0           0      1.000000             1              0.0       4  \n",
       "1           1      1.000000             1              1.0       4  \n",
       "2           0      0.500000             0              1.0       4  \n",
       "3           0      1.333333             3              0.5       4  \n",
       "4           0      1.333333             3              0.5       4  \n",
       "\n",
       "[5 rows x 24 columns]"
      ]
     },
     "execution_count": 40,
     "metadata": {},
     "output_type": "execute_result"
    }
   ],
   "source": [
    "train41 = train35.iloc[:,train35.columns.isin(cor_target[cor_target>0.2].index)]\n",
    "train41.head()"
   ]
  },
  {
   "cell_type": "code",
   "execution_count": 40,
   "metadata": {},
   "outputs": [
    {
     "data": {
      "image/png": "[encoded data removed]",
      "text/plain": [
       "<Figure size 1440x1440 with 2 Axes>"
      ]
     },
     "metadata": {},
     "output_type": "display_data"
    }
   ],
   "source": [
    "cor41 = train41.corr()\n",
    "plt.figure(figsize=(20,20))\n",
    "sns.heatmap(cor41, annot=True, cmap=plt.cm.Reds)\n",
    "plt.show()"
   ]
  },
  {
   "cell_type": "code",
   "execution_count": 41,
   "metadata": {},
   "outputs": [
    {
     "data": {
      "text/plain": [
       "<matplotlib.axes._subplots.AxesSubplot at 0x7f3bcfe684a8>"
      ]
     },
     "execution_count": 41,
     "metadata": {},
     "output_type": "execute_result"
    },
    {
     "data": {
      "image/png": "[encoded data removed]",
      "text/plain": [
       "<Figure size 432x288 with 1 Axes>"
      ]
     },
     "metadata": {},
     "output_type": "display_data"
    }
   ],
   "source": [
    "#4.2\tProject the data\n",
    "sns.countplot(\"target\", data=train41)"
   ]
  },
  {
   "cell_type": "code",
   "execution_count": 41,
   "metadata": {},
   "outputs": [
    {
     "data": {
      "text/plain": [
       "(23448, 24)"
      ]
     },
     "execution_count": 41,
     "metadata": {},
     "output_type": "execute_result"
    }
   ],
   "source": [
    "from imblearn.over_sampling import RandomOverSampler\n",
    "ros = RandomOverSampler(random_state=0)\n",
    "train42, y_resampled = ros.fit_resample(train41, train41['target'])\n",
    "train42.shape"
   ]
  },
  {
   "cell_type": "code",
   "execution_count": 43,
   "metadata": {},
   "outputs": [
    {
     "data": {
      "text/plain": [
       "<matplotlib.axes._subplots.AxesSubplot at 0x7f3bc0686e10>"
      ]
     },
     "execution_count": 43,
     "metadata": {},
     "output_type": "execute_result"
    },
    {
     "data": {
      "image/png": "[encoded data removed]",
      "text/plain": [
       "<Figure size 432x288 with 1 Axes>"
      ]
     },
     "metadata": {},
     "output_type": "display_data"
    }
   ],
   "source": [
    "sns.countplot(\"target\", data=train42)"
   ]
  },
  {
   "cell_type": "code",
   "execution_count": 44,
   "metadata": {},
   "outputs": [
    {
     "data": {
      "text/html": [
       "<div>\n",
       "<style scoped>\n",
       "    .dataframe tbody tr th:only-of-type {\n",
       "        vertical-align: middle;\n",
       "    }\n",
       "\n",
       "    .dataframe tbody tr th {\n",
       "        vertical-align: top;\n",
       "    }\n",
       "\n",
       "    .dataframe thead th {\n",
       "        text-align: right;\n",
       "    }\n",
       "</style>\n",
       "<table border=\"1\" class=\"dataframe\">\n",
       "  <thead>\n",
       "    <tr style=\"text-align: right;\">\n",
       "      <th></th>\n",
       "      <th>rooms</th>\n",
       "      <th>v18q</th>\n",
       "      <th>r4h1</th>\n",
       "      <th>r4m1</th>\n",
       "      <th>r4t1</th>\n",
       "      <th>escolari</th>\n",
       "      <th>paredblolad</th>\n",
       "      <th>pisomoscer</th>\n",
       "      <th>pisocemento</th>\n",
       "      <th>cielorazo</th>\n",
       "      <th>...</th>\n",
       "      <th>eviv1</th>\n",
       "      <th>eviv3</th>\n",
       "      <th>hogar_nin</th>\n",
       "      <th>edjefe</th>\n",
       "      <th>meaneduc</th>\n",
       "      <th>instlevel8</th>\n",
       "      <th>overcrowding</th>\n",
       "      <th>qmobilephone</th>\n",
       "      <th>dependency_rate</th>\n",
       "      <th>target</th>\n",
       "    </tr>\n",
       "  </thead>\n",
       "  <tbody>\n",
       "    <tr>\n",
       "      <th>0</th>\n",
       "      <td>3</td>\n",
       "      <td>0</td>\n",
       "      <td>0</td>\n",
       "      <td>0</td>\n",
       "      <td>0</td>\n",
       "      <td>10</td>\n",
       "      <td>1</td>\n",
       "      <td>1</td>\n",
       "      <td>0</td>\n",
       "      <td>1</td>\n",
       "      <td>...</td>\n",
       "      <td>1</td>\n",
       "      <td>0</td>\n",
       "      <td>0</td>\n",
       "      <td>10</td>\n",
       "      <td>10.0</td>\n",
       "      <td>0</td>\n",
       "      <td>1.000000</td>\n",
       "      <td>1</td>\n",
       "      <td>0.0</td>\n",
       "      <td>4</td>\n",
       "    </tr>\n",
       "    <tr>\n",
       "      <th>1</th>\n",
       "      <td>4</td>\n",
       "      <td>1</td>\n",
       "      <td>0</td>\n",
       "      <td>0</td>\n",
       "      <td>0</td>\n",
       "      <td>12</td>\n",
       "      <td>0</td>\n",
       "      <td>0</td>\n",
       "      <td>0</td>\n",
       "      <td>1</td>\n",
       "      <td>...</td>\n",
       "      <td>0</td>\n",
       "      <td>0</td>\n",
       "      <td>0</td>\n",
       "      <td>12</td>\n",
       "      <td>12.0</td>\n",
       "      <td>1</td>\n",
       "      <td>1.000000</td>\n",
       "      <td>1</td>\n",
       "      <td>1.0</td>\n",
       "      <td>4</td>\n",
       "    </tr>\n",
       "    <tr>\n",
       "      <th>2</th>\n",
       "      <td>8</td>\n",
       "      <td>0</td>\n",
       "      <td>0</td>\n",
       "      <td>0</td>\n",
       "      <td>0</td>\n",
       "      <td>11</td>\n",
       "      <td>0</td>\n",
       "      <td>1</td>\n",
       "      <td>0</td>\n",
       "      <td>1</td>\n",
       "      <td>...</td>\n",
       "      <td>0</td>\n",
       "      <td>1</td>\n",
       "      <td>0</td>\n",
       "      <td>0</td>\n",
       "      <td>11.0</td>\n",
       "      <td>0</td>\n",
       "      <td>0.500000</td>\n",
       "      <td>0</td>\n",
       "      <td>1.0</td>\n",
       "      <td>4</td>\n",
       "    </tr>\n",
       "    <tr>\n",
       "      <th>3</th>\n",
       "      <td>5</td>\n",
       "      <td>1</td>\n",
       "      <td>0</td>\n",
       "      <td>1</td>\n",
       "      <td>1</td>\n",
       "      <td>9</td>\n",
       "      <td>1</td>\n",
       "      <td>1</td>\n",
       "      <td>0</td>\n",
       "      <td>1</td>\n",
       "      <td>...</td>\n",
       "      <td>0</td>\n",
       "      <td>1</td>\n",
       "      <td>2</td>\n",
       "      <td>11</td>\n",
       "      <td>11.0</td>\n",
       "      <td>0</td>\n",
       "      <td>1.333333</td>\n",
       "      <td>3</td>\n",
       "      <td>0.5</td>\n",
       "      <td>4</td>\n",
       "    </tr>\n",
       "    <tr>\n",
       "      <th>4</th>\n",
       "      <td>5</td>\n",
       "      <td>1</td>\n",
       "      <td>0</td>\n",
       "      <td>1</td>\n",
       "      <td>1</td>\n",
       "      <td>11</td>\n",
       "      <td>1</td>\n",
       "      <td>1</td>\n",
       "      <td>0</td>\n",
       "      <td>1</td>\n",
       "      <td>...</td>\n",
       "      <td>0</td>\n",
       "      <td>1</td>\n",
       "      <td>2</td>\n",
       "      <td>11</td>\n",
       "      <td>11.0</td>\n",
       "      <td>0</td>\n",
       "      <td>1.333333</td>\n",
       "      <td>3</td>\n",
       "      <td>0.5</td>\n",
       "      <td>4</td>\n",
       "    </tr>\n",
       "  </tbody>\n",
       "</table>\n",
       "<p>5 rows × 24 columns</p>\n",
       "</div>"
      ],
      "text/plain": [
       "   rooms  v18q  r4h1  r4m1  r4t1  escolari  paredblolad  pisomoscer  \\\n",
       "0      3     0     0     0     0        10            1           1   \n",
       "1      4     1     0     0     0        12            0           0   \n",
       "2      8     0     0     0     0        11            0           1   \n",
       "3      5     1     0     1     1         9            1           1   \n",
       "4      5     1     0     1     1        11            1           1   \n",
       "\n",
       "   pisocemento  cielorazo   ...    eviv1  eviv3  hogar_nin  edjefe  meaneduc  \\\n",
       "0            0          1   ...        1      0          0      10      10.0   \n",
       "1            0          1   ...        0      0          0      12      12.0   \n",
       "2            0          1   ...        0      1          0       0      11.0   \n",
       "3            0          1   ...        0      1          2      11      11.0   \n",
       "4            0          1   ...        0      1          2      11      11.0   \n",
       "\n",
       "   instlevel8  overcrowding  qmobilephone  dependency_rate  target  \n",
       "0           0      1.000000             1              0.0       4  \n",
       "1           1      1.000000             1              1.0       4  \n",
       "2           0      0.500000             0              1.0       4  \n",
       "3           0      1.333333             3              0.5       4  \n",
       "4           0      1.333333             3              0.5       4  \n",
       "\n",
       "[5 rows x 24 columns]"
      ]
     },
     "execution_count": 44,
     "metadata": {},
     "output_type": "execute_result"
    }
   ],
   "source": [
    "train42.head()"
   ]
  },
  {
   "cell_type": "code",
   "execution_count": 45,
   "metadata": {},
   "outputs": [],
   "source": [
    "#6.1\tConduct exploratory analysis and discuss\n",
    "train61_pandas = train42\n",
    "#train61_pandas = train42.sort_values(\"target\")\n",
    "\n",
    "#train61_pandas[['targetIndex']] = train61_pandas[['targetIndex']]-1"
   ]
  },
  {
   "cell_type": "code",
   "execution_count": 46,
   "metadata": {},
   "outputs": [
    {
     "name": "stdout",
     "output_type": "stream",
     "text": [
      "['rooms', 'v18q', 'r4h1', 'r4m1', 'r4t1', 'escolari', 'paredblolad', 'pisomoscer', 'pisocemento', 'cielorazo', 'epared1', 'epared3', 'etecho1', 'etecho3', 'eviv1', 'eviv3', 'hogar_nin', 'edjefe', 'meaneduc', 'instlevel8', 'overcrowding', 'qmobilephone', 'dependency_rate', 'target']\n",
      "Row(rooms=3, v18q=0, r4h1=0, r4m1=0, r4t1=0, escolari=10, paredblolad=1, pisomoscer=1, pisocemento=0, cielorazo=1, epared1=0, epared3=0, etecho1=1, etecho3=0, eviv1=1, eviv3=0, hogar_nin=0, edjefe=10, meaneduc=10.0, instlevel8=0, overcrowding=1.0, qmobilephone=1, dependency_rate=0.0, target=4)\n"
     ]
    }
   ],
   "source": [
    "from pyspark.ml.classification import DecisionTreeClassifier\n",
    "from pyspark.ml.feature import VectorAssembler\n",
    "\n",
    "\n",
    "\n",
    "train61 = spark.createDataFrame(train61_pandas)\n",
    "\n",
    "\n",
    "#train61 = train61.withColumn(\"target\", train61.target.astype(\"double\"))\n",
    "\n",
    "print(train61.columns)\n",
    "\n",
    "#train61.target = train61.target-1\n",
    "print(train61.head())\n",
    "#assembler = VectorAssembler(\n",
    " # inputCols = data.columns, outputCol=\"features\")\n",
    "\n",
    "#dtc = DecisionTreeClassifier(labelCol='target')\n",
    "#dtc_model = dtc.fit()\n"
   ]
  },
  {
   "cell_type": "code",
   "execution_count": 47,
   "metadata": {},
   "outputs": [],
   "source": [
    "assembler = VectorAssembler(\n",
    "  inputCols=['rooms',\n",
    "             'v18q',\n",
    "             'r4h1',\n",
    "             'r4m1',\n",
    "             'r4t1',\n",
    "             'escolari',\n",
    "             'paredblolad',\n",
    "             'pisomoscer',\n",
    "             'pisocemento',\n",
    "             'cielorazo',\n",
    "             'epared1',\n",
    "             'epared3',\n",
    "             'etecho1',\n",
    "             'etecho3',\n",
    "             'eviv1',\n",
    "             'eviv3',\n",
    "             'hogar_nin',\n",
    "             'edjefe',\n",
    "             'meaneduc',\n",
    "             'instlevel8',\n",
    "             'overcrowding',\n",
    "             'qmobilephone',\n",
    "             'dependency_rate'],\n",
    "              outputCol=\"features\")"
   ]
  },
  {
   "cell_type": "code",
   "execution_count": 48,
   "metadata": {},
   "outputs": [],
   "source": [
    "output61 = assembler.transform(train61)\n",
    "from pyspark.ml.feature import StringIndexer\n",
    "indexer = StringIndexer(inputCol=\"target\", outputCol=\"targetIndex\")\n",
    "output_fixed = indexer.fit(output61).transform(output61)\n",
    "final_data = output_fixed.select(\"features\",'targetIndex')"
   ]
  },
  {
   "cell_type": "code",
   "execution_count": 49,
   "metadata": {},
   "outputs": [
    {
     "name": "stdout",
     "output_type": "stream",
     "text": [
      "root\n",
      " |-- rooms: long (nullable = true)\n",
      " |-- v18q: long (nullable = true)\n",
      " |-- r4h1: long (nullable = true)\n",
      " |-- r4m1: long (nullable = true)\n",
      " |-- r4t1: long (nullable = true)\n",
      " |-- escolari: long (nullable = true)\n",
      " |-- paredblolad: long (nullable = true)\n",
      " |-- pisomoscer: long (nullable = true)\n",
      " |-- pisocemento: long (nullable = true)\n",
      " |-- cielorazo: long (nullable = true)\n",
      " |-- epared1: long (nullable = true)\n",
      " |-- epared3: long (nullable = true)\n",
      " |-- etecho1: long (nullable = true)\n",
      " |-- etecho3: long (nullable = true)\n",
      " |-- eviv1: long (nullable = true)\n",
      " |-- eviv3: long (nullable = true)\n",
      " |-- hogar_nin: long (nullable = true)\n",
      " |-- edjefe: long (nullable = true)\n",
      " |-- meaneduc: double (nullable = true)\n",
      " |-- instlevel8: long (nullable = true)\n",
      " |-- overcrowding: double (nullable = true)\n",
      " |-- qmobilephone: long (nullable = true)\n",
      " |-- dependency_rate: double (nullable = true)\n",
      " |-- target: long (nullable = true)\n",
      " |-- features: vector (nullable = true)\n",
      " |-- targetIndex: double (nullable = true)\n",
      "\n",
      "None\n",
      "Row(features=SparseVector(23, {0: 3.0, 5: 10.0, 6: 1.0, 7: 1.0, 9: 1.0, 12: 1.0, 14: 1.0, 17: 10.0, 18: 10.0, 20: 1.0, 21: 1.0}), targetIndex=0.0)\n"
     ]
    }
   ],
   "source": [
    "print(output_fixed.printSchema())\n",
    "print(final_data.head())"
   ]
  },
  {
   "cell_type": "code",
   "execution_count": 50,
   "metadata": {},
   "outputs": [],
   "source": [
    "dtc = DecisionTreeClassifier(labelCol='targetIndex',featuresCol='features')\n",
    "dtc_model = dtc.fit(final_data)\n"
   ]
  },
  {
   "cell_type": "code",
   "execution_count": 51,
   "metadata": {},
   "outputs": [
    {
     "name": "stdout",
     "output_type": "stream",
     "text": [
      "DecisionTreeClassificationModel (uid=DecisionTreeClassifier_45149b762a15a1ed08fd) of depth 5 with 63 nodes\n",
      "  If (feature 18 <= 11.0)\n",
      "   If (feature 4 <= 1.0)\n",
      "    If (feature 18 <= 6.4000001)\n",
      "     If (feature 17 <= 4.0)\n",
      "      If (feature 11 <= 0.0)\n",
      "       Predict: 3.0\n",
      "      Else (feature 11 > 0.0)\n",
      "       Predict: 2.0\n",
      "     Else (feature 17 > 4.0)\n",
      "      If (feature 20 <= 1.6666666)\n",
      "       Predict: 2.0\n",
      "      Else (feature 20 > 1.6666666)\n",
      "       Predict: 1.0\n",
      "    Else (feature 18 > 6.4000001)\n",
      "     If (feature 16 <= 0.0)\n",
      "      If (feature 21 <= 2.0)\n",
      "       Predict: 0.0\n",
      "      Else (feature 21 > 2.0)\n",
      "       Predict: 0.0\n",
      "     Else (feature 16 > 0.0)\n",
      "      If (feature 18 <= 8.8571424)\n",
      "       Predict: 2.0\n",
      "      Else (feature 18 > 8.8571424)\n",
      "       Predict: 0.0\n",
      "   Else (feature 4 > 1.0)\n",
      "    If (feature 17 <= 3.0)\n",
      "     If (feature 21 <= 3.0)\n",
      "      If (feature 22 <= 0.5)\n",
      "       Predict: 1.0\n",
      "      Else (feature 22 > 0.5)\n",
      "       Predict: 3.0\n",
      "     Else (feature 21 > 3.0)\n",
      "      If (feature 18 <= 8.5)\n",
      "       Predict: 1.0\n",
      "      Else (feature 18 > 8.5)\n",
      "       Predict: 3.0\n",
      "    Else (feature 17 > 3.0)\n",
      "     If (feature 20 <= 1.4)\n",
      "      If (feature 18 <= 10.2)\n",
      "       Predict: 2.0\n",
      "      Else (feature 18 > 10.2)\n",
      "       Predict: 0.0\n",
      "     Else (feature 20 > 1.4)\n",
      "      If (feature 22 <= 0.6666666666666666)\n",
      "       Predict: 1.0\n",
      "      Else (feature 22 > 0.6666666666666666)\n",
      "       Predict: 3.0\n",
      "  Else (feature 18 > 11.0)\n",
      "   If (feature 11 <= 0.0)\n",
      "    If (feature 20 <= 2.5)\n",
      "     If (feature 22 <= 0.5714285714285714)\n",
      "      If (feature 18 <= 14.5)\n",
      "       Predict: 0.0\n",
      "      Else (feature 18 > 14.5)\n",
      "       Predict: 0.0\n",
      "     Else (feature 22 > 0.5714285714285714)\n",
      "      If (feature 20 <= 2.3333333)\n",
      "       Predict: 1.0\n",
      "      Else (feature 20 > 2.3333333)\n",
      "       Predict: 2.0\n",
      "    Else (feature 20 > 2.5)\n",
      "     If (feature 21 <= 3.0)\n",
      "      If (feature 9 <= 0.0)\n",
      "       Predict: 3.0\n",
      "      Else (feature 9 > 0.0)\n",
      "       Predict: 0.0\n",
      "     Else (feature 21 > 3.0)\n",
      "      If (feature 14 <= 0.0)\n",
      "       Predict: 1.0\n",
      "      Else (feature 14 > 0.0)\n",
      "       Predict: 2.0\n",
      "   Else (feature 11 > 0.0)\n",
      "    If (feature 17 <= 6.0)\n",
      "     If (feature 20 <= 1.75)\n",
      "      If (feature 6 <= 0.0)\n",
      "       Predict: 0.0\n",
      "      Else (feature 6 > 0.0)\n",
      "       Predict: 0.0\n",
      "     Else (feature 20 > 1.75)\n",
      "      If (feature 0 <= 4.0)\n",
      "       Predict: 3.0\n",
      "      Else (feature 0 > 4.0)\n",
      "       Predict: 2.0\n",
      "    Else (feature 17 > 6.0)\n",
      "     If (feature 0 <= 7.0)\n",
      "      If (feature 20 <= 2.5)\n",
      "       Predict: 0.0\n",
      "      Else (feature 20 > 2.5)\n",
      "       Predict: 2.0\n",
      "     Else (feature 0 > 7.0)\n",
      "      If (feature 20 <= 1.3333334)\n",
      "       Predict: 0.0\n",
      "      Else (feature 20 > 1.3333334)\n",
      "       Predict: 2.0\n",
      "\n"
     ]
    }
   ],
   "source": [
    "print(dtc_model.toDebugString)"
   ]
  },
  {
   "cell_type": "code",
   "execution_count": 45,
   "metadata": {},
   "outputs": [],
   "source": [
    "import json\n",
    "\n",
    "\n",
    "def parse(lines):\n",
    "\tblock = []\n",
    "\twhile lines :\n",
    "\t\tif lines[0].startswith('If'):\n",
    "\t\t\tbl = ' '.join(lines.pop(0).split()[1:]).replace('(', '').replace(')', '')\n",
    "\t\t\tblock.append({'name':bl, 'children':parse(lines)})\n",
    "\t\t\t\t\n",
    "\t\t\t\t\n",
    "\t\t\tif lines[0].startswith('Else'):\n",
    "\t\t\t\tbe = ' '.join(lines.pop(0).split()[1:]).replace('(', '').replace(')', '')\n",
    "\t\t\t\tblock.append({'name':be, 'children':parse(lines)})\n",
    "\t\telif not lines[0].startswith(('If','Else')):\n",
    "\t\t\tblock2 = lines.pop(0)\n",
    "\t\t\tblock.append({'name':block2})\n",
    "\t\telse:\n",
    "\t\t\tbreak\t\n",
    "\treturn block\n",
    "\t\n",
    "\t# Convert Tree to JSON\n",
    "def tree_json(tree):\n",
    "\tdata = []\n",
    "\tfor line in tree.splitlines() : \n",
    "\t\tif line.strip():\n",
    "\t\t\tline = line.strip()\n",
    "\t\t\tdata.append(line)\n",
    "\t\telse : break\n",
    "\t\tif not line : break\n",
    "\tres = []\n",
    "\tres.append({'name':'Root', 'children':parse(data[1:])})\n",
    "\twith open('Decision-Tree-Visualization-Spark-master/data/structure.json', 'w') as outfile:\n",
    "\t\tjson.dump(res[0], outfile)\n",
    "\tprint ('Conversion Success !')\n",
    "\n",
    "def tree_feature_json(tree, columns):\n",
    "    tree_str = tree\n",
    "    for i in range(len(columns)-1, -1, -1):\n",
    "        tree_str = tree_str.replace(\"feature \"+str(i), columns[i])\n",
    "    tree_json(tree_str)"
   ]
  },
  {
   "cell_type": "code",
   "execution_count": 53,
   "metadata": {},
   "outputs": [
    {
     "name": "stdout",
     "output_type": "stream",
     "text": [
      "Conversion Success !\n"
     ]
    }
   ],
   "source": [
    "tree_feature_json(dtc_model.toDebugString, train61.columns)"
   ]
  },
  {
   "cell_type": "code",
   "execution_count": 50,
   "metadata": {},
   "outputs": [],
   "source": [
    "from pyspark.ml.evaluation import BinaryClassificationEvaluator\n",
    "my_binary_eval = BinaryClassificationEvaluator(labelCol = 'targetIndex')"
   ]
  },
  {
   "cell_type": "code",
   "execution_count": 55,
   "metadata": {},
   "outputs": [
    {
     "name": "stdout",
     "output_type": "stream",
     "text": [
      "Conversion Success !\n",
      "0.6196222022705556\n"
     ]
    }
   ],
   "source": [
    "dtc3 = DecisionTreeClassifier(labelCol='targetIndex',featuresCol='features', maxDepth=3)\n",
    "dtc_model3 = dtc3.fit(final_data)\n",
    "\n",
    "tree_feature_json(dtc_model3.toDebugString, train61.columns)\n",
    "\n",
    "dtc_predictions3 = dtc_model3.transform(final_data)\n",
    "print(my_binary_eval.evaluate(dtc_predictions3))"
   ]
  },
  {
   "cell_type": "code",
   "execution_count": 56,
   "metadata": {},
   "outputs": [
    {
     "name": "stdout",
     "output_type": "stream",
     "text": [
      "Conversion Success !\n",
      "0.6932241509221361\n"
     ]
    }
   ],
   "source": [
    "dtc4 = DecisionTreeClassifier(labelCol='targetIndex',featuresCol='features', maxDepth=4)\n",
    "dtc_model4 = dtc4.fit(final_data)\n",
    "\n",
    "tree_feature_json(dtc_model4.toDebugString, train61.columns)\n",
    "\n",
    "dtc_predictions4 = dtc_model4.transform(final_data)\n",
    "print(my_binary_eval.evaluate(dtc_predictions4))"
   ]
  },
  {
   "cell_type": "code",
   "execution_count": 57,
   "metadata": {},
   "outputs": [
    {
     "name": "stdout",
     "output_type": "stream",
     "text": [
      "Conversion Success !\n",
      "0.7228475063695365\n"
     ]
    }
   ],
   "source": [
    "dtc5 = DecisionTreeClassifier(labelCol='targetIndex',featuresCol='features', maxDepth=5)\n",
    "dtc_model5 = dtc5.fit(final_data)\n",
    "\n",
    "tree_feature_json(dtc_model5.toDebugString, train61.columns)\n",
    "\n",
    "dtc_predictions5 = dtc_model5.transform(final_data)\n",
    "print(my_binary_eval.evaluate(dtc_predictions5))"
   ]
  },
  {
   "cell_type": "code",
   "execution_count": 58,
   "metadata": {},
   "outputs": [
    {
     "data": {
      "text/plain": [
       "Row(features=SparseVector(23, {0: 3.0, 5: 10.0, 6: 1.0, 7: 1.0, 9: 1.0, 12: 1.0, 14: 1.0, 17: 10.0, 18: 10.0, 20: 1.0, 21: 1.0}), targetIndex=0.0)"
      ]
     },
     "execution_count": 58,
     "metadata": {},
     "output_type": "execute_result"
    }
   ],
   "source": [
    "final_data.head()"
   ]
  },
  {
   "cell_type": "code",
   "execution_count": 30,
   "metadata": {},
   "outputs": [
    {
     "name": "stdout",
     "output_type": "stream",
     "text": [
      "Conversion Success !\n",
      "0.6614060054361501\n"
     ]
    }
   ],
   "source": [
    "dtc63 = DecisionTreeClassifier(labelCol='targetIndex',featuresCol='features', maxDepth=4, minInstancesPerNode=2000)\n",
    "dtc_model63 = dtc63.fit(final_data)\n",
    "\n",
    "tree_feature_json(dtc_model63.toDebugString, train61.columns)\n",
    "\n",
    "dtc_predictions63 = dtc_model63.transform(final_data)\n",
    "print(my_binary_eval.evaluate(dtc_predictions63))"
   ]
  },
  {
   "cell_type": "code",
   "execution_count": 51,
   "metadata": {},
   "outputs": [
    {
     "name": "stdout",
     "output_type": "stream",
     "text": [
      "(21116, 2)\n",
      "(2332, 2)\n"
     ]
    }
   ],
   "source": [
    "#7.1\tCreate and justify test designs\n",
    "train_data71,test_data71 = final_data.randomSplit([0.9,0.1])\n",
    "print((train_data71.count(), len(train_data71.columns)))\n",
    "print((test_data71.count(), len(test_data71.columns)))"
   ]
  },
  {
   "cell_type": "code",
   "execution_count": 52,
   "metadata": {},
   "outputs": [
    {
     "name": "stdout",
     "output_type": "stream",
     "text": [
      "Conversion Success !\n",
      "Training duration:  5.942919492721558  seconds\n",
      "Accuracy:  0.6604052982951296\n"
     ]
    }
   ],
   "source": [
    "#7.2\tConduct data mining\n",
    "import time\n",
    "\n",
    "start = time.time()\n",
    "\n",
    "dtc_tree_72 = DecisionTreeClassifier(labelCol='targetIndex',featuresCol='features', maxDepth=4, minInstancesPerNode=2000)\n",
    "dtc_tree_model_72 = dtc_tree_72.fit(train_data71)\n",
    "\n",
    "\n",
    "tree_feature_json(dtc_tree_model_72.toDebugString, train61.columns)\n",
    "\n",
    "dtc_tree_predictions_72 = dtc_tree_model_72.transform(test_data71)\n",
    "\n",
    "\n",
    "end = time.time()\n",
    "duration = end-start\n",
    "\n",
    "print(\"Training duration: \", duration, \" seconds\")\n",
    "print(\"Accuracy: \", my_binary_eval.evaluate(dtc_tree_predictions_72))\n"
   ]
  },
  {
   "cell_type": "code",
   "execution_count": 53,
   "metadata": {},
   "outputs": [
    {
     "name": "stdout",
     "output_type": "stream",
     "text": [
      "Training duration:  5.11834454536438  seconds\n",
      "Accuracy:  0.8169847573073314\n"
     ]
    }
   ],
   "source": [
    "from pyspark.ml.classification import RandomForestClassifier\n",
    "\n",
    "start = time.time()\n",
    "\n",
    "dtc_forest_72 = RandomForestClassifier(labelCol='targetIndex',featuresCol='features')\n",
    "dtc_forest_model_72 = dtc_forest_72.fit(train_data71)\n",
    "\n",
    "\n",
    "\n",
    "dtc_forest_predictions_72 = dtc_forest_model_72.transform(test_data71)\n",
    "\n",
    "\n",
    "end = time.time()\n",
    "duration = end-start\n",
    "\n",
    "print(\"Training duration: \", duration, \" seconds\")\n",
    "print(\"Accuracy: \", my_binary_eval.evaluate(dtc_forest_predictions_72))"
   ]
  },
  {
   "cell_type": "code",
   "execution_count": 63,
   "metadata": {},
   "outputs": [
    {
     "name": "stdout",
     "output_type": "stream",
     "text": [
      "Coefficients: [0.0009828415819616704,-0.21103788739958937,0.0012889912552341727,0.04936609975714846,0.0246968843735806,-0.0036143051296167236,-0.025690152259485743,0.014115077305960214,0.07810709002267208,-0.12103414231748266,-0.00875796239732314,-0.043238130162976,0.2836731759114449,-0.10790095007258128,-0.20945422441729802,-0.07341446633215762,0.13185789815239937,-0.024798793047333675,-0.042555583628898726,-0.18361475141931782,-0.010134186346290984,-0.1166997860685525,0.14257847353910025]\n",
      "Intercept: 2.111923968647216\n",
      "numIterations: 25\n",
      "objectiveHistory: [0.5, 0.4007214492062887, 0.39381309946713405, 0.3851068905426769, 0.38397138889916316, 0.3831757341032114, 0.38283247997072767, 0.382635903120909, 0.38252914935067106, 0.38251765726246334, 0.38249941898730966, 0.38249833793252375, 0.38249779168800413, 0.38249761154239637, 0.38249760087493545, 0.38249759304627173, 0.38249759076923295, 0.3824975895530216, 0.3824975890897713, 0.3824975887109978, 0.38249758856016736, 0.382497588551308, 0.3824975885493902, 0.3824975885488069, 0.3824975885486439]\n",
      "+-------------------+\n",
      "|          residuals|\n",
      "+-------------------+\n",
      "|-0.7824517955638994|\n",
      "|-0.7824517955638994|\n",
      "|-0.7824517955638994|\n",
      "| 0.5721152514145462|\n",
      "| 0.5721152514145462|\n",
      "| 0.5721152514145462|\n",
      "| 0.5721152514145462|\n",
      "| 0.5721152514145462|\n",
      "| 0.5721152514145462|\n",
      "| 0.5721152514145462|\n",
      "| 0.5721152514145462|\n",
      "|  0.586572471933013|\n",
      "|  0.586572471933013|\n",
      "|  0.586572471933013|\n",
      "|  0.586572471933013|\n",
      "|  0.586572471933013|\n",
      "| 0.6082583027107136|\n",
      "| 0.6082583027107136|\n",
      "| 0.6082583027107136|\n",
      "| 0.6082583027107136|\n",
      "+-------------------+\n",
      "only showing top 20 rows\n",
      "\n",
      "RMSE: 0.976171\n",
      "r2: 0.235005\n"
     ]
    }
   ],
   "source": [
    "from pyspark.ml.regression import LinearRegression\n",
    "\n",
    "lr_72 = LinearRegression(labelCol='targetIndex',featuresCol='features')\n",
    "lrModel = lr_72.fit(train_data71)\n",
    "print(\"Coefficients: %s\" % str(lrModel.coefficients))\n",
    "print(\"Intercept: %s\" % str(lrModel.intercept))\n",
    "\n",
    "# Summarize the model over the training set and print out some metrics\n",
    "trainingSummary = lrModel.summary\n",
    "print(\"numIterations: %d\" % trainingSummary.totalIterations)\n",
    "print(\"objectiveHistory: %s\" % str(trainingSummary.objectiveHistory))\n",
    "trainingSummary.residuals.show()\n",
    "print(\"RMSE: %f\" % trainingSummary.rootMeanSquaredError)\n",
    "print(\"r2: %f\" % trainingSummary.r2)\n",
    "\n"
   ]
  },
  {
   "cell_type": "code",
   "execution_count": 64,
   "metadata": {},
   "outputs": [],
   "source": [
    "#print(trainingSummary.pValues())"
   ]
  },
  {
   "cell_type": "code",
   "execution_count": 54,
   "metadata": {},
   "outputs": [
    {
     "name": "stdout",
     "output_type": "stream",
     "text": [
      "Training duration:  0.08398771286010742  seconds\n",
      "                                 OLS Regression Results                                \n",
      "=======================================================================================\n",
      "Dep. Variable:                 target   R-squared (uncentered):                   0.877\n",
      "Model:                            OLS   Adj. R-squared (uncentered):              0.877\n",
      "Method:                 Least Squares   F-statistic:                              7570.\n",
      "Date:                Sun, 07 Jun 2020   Prob (F-statistic):                        0.00\n",
      "Time:                        07:02:18   Log-Likelihood:                         -32356.\n",
      "No. Observations:               23448   AIC:                                  6.476e+04\n",
      "Df Residuals:                   23426   BIC:                                  6.493e+04\n",
      "Df Model:                          22                                                  \n",
      "Covariance Type:            nonrobust                                                  \n",
      "===================================================================================\n",
      "                      coef    std err          t      P>|t|      [0.025      0.975]\n",
      "-----------------------------------------------------------------------------------\n",
      "rooms               0.1681      0.005     34.372      0.000       0.158       0.178\n",
      "v18q                0.1631      0.019      8.476      0.000       0.125       0.201\n",
      "r4h1               -0.0013      0.007     -0.181      0.856      -0.016       0.013\n",
      "r4m1               -0.0385      0.007     -5.488      0.000      -0.052      -0.025\n",
      "r4t1               -0.0398      0.006     -6.125      0.000      -0.053      -0.027\n",
      "escolari            0.0150      0.002      7.621      0.000       0.011       0.019\n",
      "paredblolad         0.0793      0.015      5.449      0.000       0.051       0.108\n",
      "pisomoscer          0.3165      0.023     13.810      0.000       0.272       0.361\n",
      "pisocemento         0.2733      0.021     13.097      0.000       0.232       0.314\n",
      "cielorazo           0.0801      0.016      4.968      0.000       0.049       0.112\n",
      "epared1             0.0998      0.025      3.921      0.000       0.050       0.150\n",
      "epared3             0.1439      0.019      7.412      0.000       0.106       0.182\n",
      "etecho1            -0.2622      0.023    -11.582      0.000      -0.307      -0.218\n",
      "etecho3             0.0915      0.019      4.782      0.000       0.054       0.129\n",
      "eviv1               0.2299      0.025      9.136      0.000       0.181       0.279\n",
      "eviv3               0.1493      0.019      7.695      0.000       0.111       0.187\n",
      "hogar_nin          -0.2513      0.009    -27.505      0.000      -0.269      -0.233\n",
      "edjefe              0.0274      0.002     17.554      0.000       0.024       0.031\n",
      "meaneduc            0.0569      0.002     26.246      0.000       0.053       0.061\n",
      "instlevel8         -0.0278      0.029     -0.961      0.337      -0.084       0.029\n",
      "overcrowding        0.2759      0.009     31.217      0.000       0.259       0.293\n",
      "qmobilephone        0.1369      0.006     23.956      0.000       0.126       0.148\n",
      "dependency_rate     0.2656      0.030      8.714      0.000       0.206       0.325\n",
      "==============================================================================\n",
      "Omnibus:                      233.037   Durbin-Watson:                   0.653\n",
      "Prob(Omnibus):                  0.000   Jarque-Bera (JB):              183.689\n",
      "Skew:                          -0.138   Prob(JB):                     1.30e-40\n",
      "Kurtosis:                       2.665   Cond. No.                     1.95e+16\n",
      "==============================================================================\n",
      "\n",
      "Warnings:\n",
      "[1] Standard Errors assume that the covariance matrix of the errors is correctly specified.\n",
      "[2] The smallest eigenvalue is 1.1e-26. This might indicate that there are\n",
      "strong multicollinearity problems or that the design matrix is singular.\n"
     ]
    }
   ],
   "source": [
    "import statsmodels.api as sm\n",
    "Y72 = train42['target']\n",
    "X72 = train42.drop('target', axis=1)\n",
    "\n",
    "start = time.time()\n",
    "mod = sm.OLS(Y72, X72)    # Describe model\n",
    "res = mod.fit()       # Fit model\n",
    "end = time.time()\n",
    "duration = end-start\n",
    "print(\"Training duration: \", duration, \" seconds\")\n",
    "print(res.summary())"
   ]
  },
  {
   "cell_type": "code",
   "execution_count": 66,
   "metadata": {},
   "outputs": [
    {
     "data": {
      "text/plain": [
       "rooms              1.220786e-252\n",
       "overcrowding       1.228945e-209\n",
       "hogar_nin          6.087467e-164\n",
       "meaneduc           1.159192e-149\n",
       "qmobilephone       2.599874e-125\n",
       "edjefe              1.534896e-68\n",
       "pisomoscer          3.262884e-43\n",
       "pisocemento         4.723147e-39\n",
       "etecho1             6.162458e-31\n",
       "eviv1               6.983574e-20\n",
       "dependency_rate     3.122111e-18\n",
       "v18q                2.463961e-17\n",
       "eviv3               1.474148e-14\n",
       "escolari            2.608147e-14\n",
       "epared3             1.287030e-13\n",
       "r4t1                9.200465e-10\n",
       "r4m1                4.101946e-08\n",
       "paredblolad         5.129869e-08\n",
       "cielorazo           6.803918e-07\n",
       "etecho3             1.749606e-06\n",
       "epared1             8.835381e-05\n",
       "instlevel8          3.367022e-01\n",
       "r4h1                8.559934e-01\n",
       "dtype: float64"
      ]
     },
     "execution_count": 66,
     "metadata": {},
     "output_type": "execute_result"
    }
   ],
   "source": [
    "#7.3\tSearch for patterns\n",
    "res.pvalues.sort_values()"
   ]
  },
  {
   "cell_type": "code",
   "execution_count": 33,
   "metadata": {},
   "outputs": [
    {
     "data": {
      "image/png": "[encoded data removed]",
      "text/plain": [
       "<Figure size 720x720 with 2 Axes>"
      ]
     },
     "metadata": {},
     "output_type": "display_data"
    }
   ],
   "source": [
    "#8.2\tVisualize the data, results, models, and patterns\n",
    "\n",
    "from sklearn.metrics import confusion_matrix\n",
    "\n",
    "prediction82 = dtc_tree_predictions_72.toPandas()\n",
    "\n",
    "c82 = pd.crosstab(prediction82[\"targetIndex\"], prediction82[\"prediction\"])\n",
    "c82.columns.name = 'predict'\n",
    "\n",
    "plt.figure(figsize=(10,10))\n",
    "#sns.set(font_scale=1.5)\n",
    "sns.heatmap(c82, annot=True, fmt='d').invert_yaxis()\n",
    "plt.show()"
   ]
  },
  {
   "cell_type": "code",
   "execution_count": 34,
   "metadata": {},
   "outputs": [
    {
     "data": {
      "text/plain": [
       "<matplotlib.axes._subplots.AxesSubplot at 0x7fc35e1530f0>"
      ]
     },
     "execution_count": 34,
     "metadata": {},
     "output_type": "execute_result"
    },
    {
     "data": {
      "image/png": "[encoded data removed]",
      "text/plain": [
       "<Figure size 720x720 with 1 Axes>"
      ]
     },
     "metadata": {},
     "output_type": "display_data"
    }
   ],
   "source": [
    "plt.figure(figsize=(10,10))\n",
    "\n",
    "sns.violinplot(x='target', y='meaneduc', data=train42, split=True)"
   ]
  },
  {
   "cell_type": "code",
   "execution_count": 35,
   "metadata": {
    "scrolled": true
   },
   "outputs": [
    {
     "data": {
      "text/plain": [
       "<matplotlib.axes._subplots.AxesSubplot at 0x7fc35e16c780>"
      ]
     },
     "execution_count": 35,
     "metadata": {},
     "output_type": "execute_result"
    },
    {
     "data": {
      "image/png": "[encoded data removed]",
      "text/plain": [
       "<Figure size 432x288 with 1 Axes>"
      ]
     },
     "metadata": {},
     "output_type": "display_data"
    }
   ],
   "source": [
    "sns.boxplot(x = 'target', y = 'meaneduc', data = train42)"
   ]
  },
  {
   "cell_type": "code",
   "execution_count": 36,
   "metadata": {},
   "outputs": [],
   "source": [
    "train82=train42"
   ]
  },
  {
   "cell_type": "code",
   "execution_count": 37,
   "metadata": {},
   "outputs": [
    {
     "name": "stderr",
     "output_type": "stream",
     "text": [
      "/home/ubuntu/.local/lib/python3.5/site-packages/ipykernel_launcher.py:4: SettingWithCopyWarning: \n",
      "A value is trying to be set on a copy of a slice from a DataFrame\n",
      "\n",
      "See the caveats in the documentation: http://pandas.pydata.org/pandas-docs/stable/indexing.html#indexing-view-versus-copy\n",
      "  after removing the cwd from sys.path.\n"
     ]
    }
   ],
   "source": [
    "train82['hogar_nin'].value_counts()\n",
    "\n",
    "train82['more_than_one_child']=0\n",
    "train82['more_than_one_child'][train42['hogar_nin']>1]=1"
   ]
  },
  {
   "cell_type": "code",
   "execution_count": 38,
   "metadata": {},
   "outputs": [
    {
     "data": {
      "text/plain": [
       "<matplotlib.axes._subplots.AxesSubplot at 0x7fc35e1411d0>"
      ]
     },
     "execution_count": 38,
     "metadata": {},
     "output_type": "execute_result"
    },
    {
     "data": {
      "image/png": "[encoded data removed]",
      "text/plain": [
       "<Figure size 720x720 with 1 Axes>"
      ]
     },
     "metadata": {},
     "output_type": "display_data"
    }
   ],
   "source": [
    "plt.figure(figsize=(10,10))\n",
    "\n",
    "sns.violinplot(x='target', y='meaneduc', hue='more_than_one_child', data=train42, split=True)"
   ]
  },
  {
   "cell_type": "code",
   "execution_count": 40,
   "metadata": {},
   "outputs": [
    {
     "data": {
      "text/plain": [
       "rooms                  4.665174\n",
       "v18q                   0.146750\n",
       "r4h1                   0.480212\n",
       "r4m1                   0.520002\n",
       "r4t1                   1.000213\n",
       "escolari               5.997143\n",
       "paredblolad            0.496119\n",
       "pisomoscer             0.595872\n",
       "pisocemento            0.284374\n",
       "cielorazo              0.560048\n",
       "epared1                0.152039\n",
       "epared3                0.454197\n",
       "etecho1                0.185432\n",
       "etecho3                0.474497\n",
       "eviv1                  0.146665\n",
       "eviv3                  0.533137\n",
       "hogar_nin              1.674343\n",
       "edjefe                 3.992195\n",
       "meaneduc               7.939123\n",
       "instlevel8             0.076169\n",
       "overcrowding           1.743139\n",
       "qmobilephone           2.520130\n",
       "dependency_rate        0.460306\n",
       "target                 2.500000\n",
       "more_than_one_child    0.509937\n",
       "dtype: float64"
      ]
     },
     "execution_count": 40,
     "metadata": {},
     "output_type": "execute_result"
    }
   ],
   "source": [
    "#8.3\tInterpret the results, models, and patterns\n",
    "train82.mean()"
   ]
  },
  {
   "cell_type": "code",
   "execution_count": 43,
   "metadata": {},
   "outputs": [
    {
     "data": {
      "text/plain": [
       "rooms                  0.165970\n",
       "v18q                   0.164026\n",
       "r4h1                   0.002064\n",
       "r4m1                  -0.041860\n",
       "r4t1                  -0.039796\n",
       "escolari               0.014551\n",
       "paredblolad            0.075511\n",
       "pisomoscer             0.318532\n",
       "pisocemento            0.269203\n",
       "cielorazo              0.078584\n",
       "epared1                0.096510\n",
       "epared3                0.140544\n",
       "etecho1               -0.262906\n",
       "etecho3                0.096432\n",
       "eviv1                  0.234846\n",
       "eviv3                  0.152625\n",
       "hogar_nin             -0.220699\n",
       "edjefe                 0.027524\n",
       "meaneduc               0.057641\n",
       "instlevel8            -0.033520\n",
       "overcrowding           0.274840\n",
       "qmobilephone           0.139855\n",
       "dependency_rate        0.284402\n",
       "more_than_one_child   -0.114636\n",
       "dtype: float64"
      ]
     },
     "execution_count": 43,
     "metadata": {},
     "output_type": "execute_result"
    }
   ],
   "source": [
    "res.params"
   ]
  },
  {
   "cell_type": "code",
   "execution_count": 45,
   "metadata": {},
   "outputs": [
    {
     "data": {
      "text/plain": [
       "cielorazo              0.044011\n",
       "dependency_rate        0.130912\n",
       "edjefe                 0.109882\n",
       "epared1                0.014673\n",
       "epared3                0.063835\n",
       "escolari               0.087263\n",
       "etecho1               -0.048751\n",
       "etecho3                0.045757\n",
       "eviv1                  0.034444\n",
       "eviv3                  0.081370\n",
       "hogar_nin             -0.369525\n",
       "instlevel8            -0.002553\n",
       "meaneduc               0.457618\n",
       "more_than_one_child   -0.058457\n",
       "overcrowding           0.479085\n",
       "paredblolad            0.037462\n",
       "pisocemento            0.076554\n",
       "pisomoscer             0.189804\n",
       "qmobilephone           0.352454\n",
       "r4h1                   0.000991\n",
       "r4m1                  -0.021767\n",
       "r4t1                  -0.039805\n",
       "rooms                  0.774277\n",
       "target                      NaN\n",
       "v18q                   0.024071\n",
       "dtype: float64"
      ]
     },
     "execution_count": 45,
     "metadata": {},
     "output_type": "execute_result"
    }
   ],
   "source": [
    "train82.mean() * res.params"
   ]
  },
  {
   "cell_type": "code",
   "execution_count": 55,
   "metadata": {},
   "outputs": [
    {
     "data": {
      "text/plain": [
       "0.789105825039526"
      ]
     },
     "execution_count": 55,
     "metadata": {},
     "output_type": "execute_result"
    }
   ],
   "source": [
    "#8.4\tAssess and evaluate results, models, and patterns\n",
    "\n",
    "from statsmodels.tools import eval_measures\n",
    "\n",
    "y_predict_regression = res.predict(X72)\n",
    "\n",
    "eval_measures.meanabs(Y72, y_predict_regression)"
   ]
  },
  {
   "cell_type": "code",
   "execution_count": 59,
   "metadata": {},
   "outputs": [
    {
     "name": "stdout",
     "output_type": "stream",
     "text": [
      "0.9095197255574614\n",
      "0.6578044596912521\n"
     ]
    }
   ],
   "source": [
    "print(eval_measures.meanabs(dtc_tree_predictions_72.toPandas()[\"targetIndex\"], dtc_tree_predictions_72.toPandas()[\"prediction\"]))\n",
    "print(eval_measures.meanabs(dtc_forest_predictions_72.toPandas()[\"targetIndex\"], dtc_forest_predictions_72.toPandas()[\"prediction\"]))"
   ]
  },
  {
   "cell_type": "code",
   "execution_count": 36,
   "metadata": {},
   "outputs": [
    {
     "name": "stdout",
     "output_type": "stream",
     "text": [
      "(23448, 128)\n",
      "(23448,)\n"
     ]
    }
   ],
   "source": [
    "#8.5\tIterate prior steps as required\n",
    "from imblearn.over_sampling import RandomOverSampler\n",
    "y85 = train35['target']\n",
    "X85 = train35.drop('target', axis=1)\n",
    "\n",
    "ros = RandomOverSampler(random_state=0)\n",
    "X85, y85 = ros.fit_resample(X85, y85)\n",
    "print(X85.shape)\n",
    "print(y85.shape)"
   ]
  },
  {
   "cell_type": "code",
   "execution_count": 45,
   "metadata": {},
   "outputs": [
    {
     "name": "stdout",
     "output_type": "stream",
     "text": [
      "Training duration:  1.0709021091461182  seconds\n",
      "                            OLS Regression Results                            \n",
      "==============================================================================\n",
      "Dep. Variable:                 target   R-squared:                       0.365\n",
      "Model:                            OLS   Adj. R-squared:                  0.362\n",
      "Method:                 Least Squares   F-statistic:                     129.0\n",
      "Date:                Sun, 07 Jun 2020   Prob (F-statistic):               0.00\n",
      "Time:                        07:16:20   Log-Likelihood:                -30563.\n",
      "No. Observations:               23448   AIC:                         6.134e+04\n",
      "Df Residuals:                   23343   BIC:                         6.218e+04\n",
      "Df Model:                         104                                         \n",
      "Covariance Type:            nonrobust                                         \n",
      "===================================================================================\n",
      "                      coef    std err          t      P>|t|      [0.025      0.975]\n",
      "-----------------------------------------------------------------------------------\n",
      "hacdor              0.2445      0.045      5.429      0.000       0.156       0.333\n",
      "rooms              -0.0379      0.008     -4.461      0.000      -0.055      -0.021\n",
      "hacapo              0.1967      0.048      4.088      0.000       0.102       0.291\n",
      "v14a                0.0292      0.083      0.350      0.726      -0.134       0.193\n",
      "refrig              0.1038      0.028      3.740      0.000       0.049       0.158\n",
      "v18q                0.2580      0.019     13.711      0.000       0.221       0.295\n",
      "r4h1               -0.0293      0.009     -3.356      0.001      -0.046      -0.012\n",
      "r4h2                0.0209      0.008      2.618      0.009       0.005       0.037\n",
      "r4h3               -0.0084      0.014     -0.584      0.559      -0.036       0.020\n",
      "r4m1               -0.0278      0.008     -3.285      0.001      -0.044      -0.011\n",
      "r4m2               -0.0326      0.008     -3.908      0.000      -0.049      -0.016\n",
      "r4m3               -0.0604      0.014     -4.207      0.000      -0.089      -0.032\n",
      "r4t1               -0.0571      0.015     -3.882      0.000      -0.086      -0.028\n",
      "r4t2               -0.0116      0.014     -0.816      0.415      -0.040       0.016\n",
      "r4t3               -0.0688      0.028     -2.447      0.014      -0.124      -0.014\n",
      "tamhog              0.0524      0.018      2.947      0.003       0.018       0.087\n",
      "tamviv             -0.0893      0.015     -5.998      0.000      -0.119      -0.060\n",
      "escolari            0.0023      0.007      0.332      0.740      -0.011       0.016\n",
      "hhsize              0.0524      0.018      2.947      0.003       0.018       0.087\n",
      "paredblolad         0.1464      0.040      3.705      0.000       0.069       0.224\n",
      "paredzocalo         0.0262      0.042      0.624      0.532      -0.056       0.108\n",
      "paredpreb          -0.0108      0.040     -0.271      0.787      -0.089       0.067\n",
      "pareddes            0.5375      0.100      5.388      0.000       0.342       0.733\n",
      "paredmad            0.0489      0.041      1.202      0.229      -0.031       0.129\n",
      "paredzinc           0.1058      0.066      1.596      0.110      -0.024       0.236\n",
      "paredfibras        -0.5549      0.116     -4.770      0.000      -0.783      -0.327\n",
      "paredother          0.5401      0.167      3.227      0.001       0.212       0.868\n",
      "pisomoscer         -0.0744      0.061     -1.225      0.220      -0.193       0.045\n",
      "pisocemento        -0.1401      0.061     -2.308      0.021      -0.259      -0.021\n",
      "pisoother           1.0786      0.254      4.249      0.000       0.581       1.576\n",
      "pisonatur           0.2033      0.137      1.480      0.139      -0.066       0.472\n",
      "pisonotiene        -0.1167      0.070     -1.666      0.096      -0.254       0.021\n",
      "pisomadera         -0.1113      0.063     -1.773      0.076      -0.234       0.012\n",
      "techozinc           0.4612      0.127      3.625      0.000       0.212       0.711\n",
      "techoentrepiso      0.3118      0.137      2.275      0.023       0.043       0.580\n",
      "techocane           0.2725      0.148      1.846      0.065      -0.017       0.562\n",
      "techootro           0.9945      0.235      4.227      0.000       0.533       1.456\n",
      "cielorazo           0.0819      0.016      5.095      0.000       0.050       0.113\n",
      "abastaguadentro     0.2949      0.057      5.183      0.000       0.183       0.406\n",
      "abastaguafuera      0.4446      0.059      7.525      0.000       0.329       0.560\n",
      "abastaguano         0.0997      0.077      1.287      0.198      -0.052       0.252\n",
      "public             -0.1247      0.121     -1.027      0.305      -0.363       0.113\n",
      "planpri             0.0036      0.419      0.009      0.993      -0.817       0.824\n",
      "noelec             -0.2388      0.151     -1.585      0.113      -0.534       0.057\n",
      "coopele            -0.0497      0.123     -0.406      0.685      -0.290       0.191\n",
      "sanitario1          0.2003      0.081      2.462      0.014       0.041       0.360\n",
      "sanitario2          0.0762      0.044      1.735      0.083      -0.010       0.162\n",
      "sanitario3         -0.0342      0.043     -0.801      0.423      -0.118       0.050\n",
      "sanitario5          0.1955      0.053      3.657      0.000       0.091       0.300\n",
      "sanitario6          0.4015      0.099      4.056      0.000       0.207       0.595\n",
      "energcocinar1      -0.1408      0.087     -1.616      0.106      -0.312       0.030\n",
      "energcocinar2       0.4125      0.046      9.021      0.000       0.323       0.502\n",
      "energcocinar3       0.3721      0.045      8.233      0.000       0.283       0.461\n",
      "energcocinar4       0.1955      0.048      4.114      0.000       0.102       0.289\n",
      "elimbasu1          -0.1549      0.063     -2.475      0.013      -0.278      -0.032\n",
      "elimbasu2          -0.0836      0.067     -1.245      0.213      -0.215       0.048\n",
      "elimbasu3          -0.1318      0.063     -2.080      0.038      -0.256      -0.008\n",
      "elimbasu4           0.1266      0.117      1.084      0.279      -0.102       0.356\n",
      "elimbasu5        5.019e-15   2.36e-15      2.123      0.034    3.85e-16    9.65e-15\n",
      "elimbasu6           1.0828      0.213      5.082      0.000       0.665       1.501\n",
      "epared1             0.2249      0.051      4.398      0.000       0.125       0.325\n",
      "epared2             0.2436      0.049      4.990      0.000       0.148       0.339\n",
      "epared3             0.3707      0.050      7.472      0.000       0.273       0.468\n",
      "etecho1             0.0877      0.050      1.769      0.077      -0.009       0.185\n",
      "etecho2             0.3535      0.049      7.200      0.000       0.257       0.450\n",
      "etecho3             0.3981      0.049      8.065      0.000       0.301       0.495\n",
      "eviv1               0.3589      0.050      7.126      0.000       0.260       0.458\n",
      "eviv2               0.2031      0.049      4.136      0.000       0.107       0.299\n",
      "eviv3               0.2772      0.050      5.575      0.000       0.180       0.375\n",
      "dis                -0.1262      0.025     -4.956      0.000      -0.176      -0.076\n",
      "male                0.4235      0.072      5.880      0.000       0.282       0.565\n",
      "female              0.4157      0.072      5.768      0.000       0.274       0.557\n",
      "estadocivil1        0.1647      0.038      4.385      0.000       0.091       0.238\n",
      "estadocivil2        0.1040      0.030      3.522      0.000       0.046       0.162\n",
      "estadocivil3        0.0312      0.029      1.091      0.275      -0.025       0.087\n",
      "estadocivil4        0.2074      0.040      5.226      0.000       0.130       0.285\n",
      "estadocivil5       -0.0392      0.030     -1.314      0.189      -0.098       0.019\n",
      "estadocivil6        0.2894      0.039      7.486      0.000       0.214       0.365\n",
      "estadocivil7        0.0816      0.027      3.029      0.002       0.029       0.134\n",
      "parentesco1        -0.0471      0.028     -1.680      0.093      -0.102       0.008\n",
      "parentesco2        -0.0387      0.033     -1.157      0.247      -0.104       0.027\n",
      "parentesco3        -0.0120      0.027     -0.444      0.657      -0.065       0.041\n",
      "parentesco4         0.4283      0.053      8.142      0.000       0.325       0.531\n",
      "parentesco5        -0.0396      0.068     -0.582      0.560      -0.173       0.094\n",
      "parentesco6         0.1046      0.038      2.783      0.005       0.031       0.178\n",
      "parentesco7        -0.1748      0.064     -2.733      0.006      -0.300      -0.049\n",
      "parentesco8        -0.2189      0.113     -1.933      0.053      -0.441       0.003\n",
      "parentesco9         0.0891      0.055      1.621      0.105      -0.019       0.197\n",
      "parentesco10        0.4255      0.102      4.189      0.000       0.226       0.625\n",
      "parentesco11       -0.0815      0.055     -1.493      0.135      -0.188       0.026\n",
      "parentesco12        0.4044      0.074      5.445      0.000       0.259       0.550\n",
      "hogar_nin          -0.1287      0.012    -10.453      0.000      -0.153      -0.105\n",
      "hogar_adul          0.1811      0.012     14.656      0.000       0.157       0.205\n",
      "hogar_mayor        -0.2023      0.023     -8.956      0.000      -0.247      -0.158\n",
      "hogar_total         0.0524      0.018      2.947      0.003       0.018       0.087\n",
      "edjefe              0.0271      0.003     10.124      0.000       0.022       0.032\n",
      "edjefa              0.0070      0.003      2.473      0.013       0.001       0.012\n",
      "meaneduc            0.0417      0.003     14.726      0.000       0.036       0.047\n",
      "instlevel1         -1.3186      0.517     -2.549      0.011      -2.332      -0.305\n",
      "instlevel2         -1.2909      0.517     -2.495      0.013      -2.305      -0.277\n",
      "instlevel3         -1.2075      0.518     -2.329      0.020      -2.224      -0.191\n",
      "instlevel4         -1.2824      0.520     -2.467      0.014      -2.301      -0.264\n",
      "instlevel5         -1.3376      0.522     -2.562      0.010      -2.361      -0.314\n",
      "instlevel6         -1.1721      0.522     -2.246      0.025      -2.195      -0.149\n",
      "instlevel7         -1.3367      0.526     -2.543      0.011      -2.367      -0.306\n",
      "instlevel8         -1.1549      0.526     -2.197      0.028      -2.185      -0.125\n",
      "instlevel9         -0.9417      0.535     -1.760      0.078      -1.990       0.107\n",
      "bedrooms            0.0147      0.018      0.803      0.422      -0.021       0.051\n",
      "overcrowding       -0.1009      0.023     -4.297      0.000      -0.147      -0.055\n",
      "tipovivi1           0.0885      0.032      2.792      0.005       0.026       0.151\n",
      "tipovivi2           0.2874      0.037      7.870      0.000       0.216       0.359\n",
      "tipovivi3           0.2831      0.033      8.625      0.000       0.219       0.347\n",
      "tipovivi4           0.0483      0.044      1.087      0.277      -0.039       0.135\n",
      "tipovivi5           0.1319      0.034      3.898      0.000       0.066       0.198\n",
      "computer           -0.0165      0.029     -0.575      0.565      -0.073       0.040\n",
      "television          0.1149      0.015      7.628      0.000       0.085       0.144\n",
      "mobilephone        -0.0369      0.035     -1.044      0.297      -0.106       0.032\n",
      "qmobilephone        0.1329      0.007     20.084      0.000       0.120       0.146\n",
      "lugar1              0.1994      0.027      7.373      0.000       0.146       0.252\n",
      "lugar2              0.1130      0.030      3.713      0.000       0.053       0.173\n",
      "lugar3              0.0671      0.031      2.171      0.030       0.007       0.128\n",
      "lugar4              0.0950      0.030      3.146      0.002       0.036       0.154\n",
      "lugar5              0.1416      0.029      4.811      0.000       0.084       0.199\n",
      "lugar6              0.2232      0.031      7.248      0.000       0.163       0.284\n",
      "area1               0.3350      0.072      4.644      0.000       0.194       0.476\n",
      "area2               0.5042      0.072      6.992      0.000       0.363       0.646\n",
      "age                 0.0041      0.001      5.987      0.000       0.003       0.005\n",
      "dependency_rate     0.3146      0.057      5.537      0.000       0.203       0.426\n",
      "==============================================================================\n",
      "Omnibus:                      211.118   Durbin-Watson:                   0.640\n",
      "Prob(Omnibus):                  0.000   Jarque-Bera (JB):              165.573\n",
      "Skew:                          -0.125   Prob(JB):                     1.11e-36\n",
      "Kurtosis:                       2.673   Cond. No.                     1.13e+16\n",
      "==============================================================================\n",
      "\n",
      "Warnings:\n",
      "[1] Standard Errors assume that the covariance matrix of the errors is correctly specified.\n",
      "[2] The smallest eigenvalue is 3.23e-25. This might indicate that there are\n",
      "strong multicollinearity problems or that the design matrix is singular.\n"
     ]
    }
   ],
   "source": [
    "\n",
    "\n",
    "start = time.time()\n",
    "mod = sm.OLS(y85, X85)    \n",
    "res85 = mod.fit()       \n",
    "end = time.time()\n",
    "duration = end-start\n",
    "print(\"Training duration: \", duration, \" seconds\")\n",
    "print(res85.summary())"
   ]
  },
  {
   "cell_type": "code",
   "execution_count": 46,
   "metadata": {},
   "outputs": [
    {
     "data": {
      "text/plain": [
       "qmobilephone       5.737586e-89\n",
       "meaneduc           7.222294e-49\n",
       "hogar_adul         2.018711e-48\n",
       "v18q               1.278156e-42\n",
       "hogar_nin          1.615718e-25\n",
       "edjefe             4.860452e-24\n",
       "energcocinar2      2.012826e-19\n",
       "hogar_mayor        3.627654e-19\n",
       "tipovivi3          6.814604e-18\n",
       "energcocinar3      1.920862e-16\n",
       "parentesco4        4.074084e-16\n",
       "etecho3            7.666749e-16\n",
       "tipovivi2          3.698825e-15\n",
       "television         2.483107e-14\n",
       "abastaguafuera     5.461138e-14\n",
       "estadocivil6       7.358350e-14\n",
       "epared3            8.159167e-14\n",
       "lugar1             1.728478e-13\n",
       "lugar6             4.373385e-13\n",
       "etecho2            6.190115e-13\n",
       "eviv1              1.060494e-12\n",
       "area2              2.790475e-12\n",
       "tamviv             2.022476e-09\n",
       "age                2.169642e-09\n",
       "male               4.152785e-09\n",
       "female             8.123203e-09\n",
       "eviv3              2.508719e-08\n",
       "dependency_rate    3.101576e-08\n",
       "parentesco12       5.238471e-08\n",
       "hacdor             5.732991e-08\n",
       "                       ...     \n",
       "parentesco9        1.051085e-01\n",
       "energcocinar1      1.061789e-01\n",
       "paredzinc          1.104343e-01\n",
       "noelec             1.130839e-01\n",
       "parentesco11       1.354878e-01\n",
       "pisonatur          1.388643e-01\n",
       "estadocivil5       1.890264e-01\n",
       "abastaguano        1.982202e-01\n",
       "elimbasu2          2.132290e-01\n",
       "pisomoscer         2.204984e-01\n",
       "paredmad           2.291914e-01\n",
       "parentesco2        2.473373e-01\n",
       "estadocivil3       2.753793e-01\n",
       "tipovivi4          2.769775e-01\n",
       "elimbasu4          2.785401e-01\n",
       "mobilephone        2.965248e-01\n",
       "public             3.045351e-01\n",
       "r4t2               4.146181e-01\n",
       "bedrooms           4.219924e-01\n",
       "sanitario3         4.231882e-01\n",
       "paredzocalo        5.323106e-01\n",
       "r4h3               5.594522e-01\n",
       "parentesco5        5.604295e-01\n",
       "computer           5.652618e-01\n",
       "parentesco3        6.574069e-01\n",
       "coopele            6.850699e-01\n",
       "v14a               7.264501e-01\n",
       "escolari           7.397676e-01\n",
       "paredpreb          7.865867e-01\n",
       "planpri            9.931115e-01\n",
       "Length: 128, dtype: float64"
      ]
     },
     "execution_count": 46,
     "metadata": {},
     "output_type": "execute_result"
    }
   ],
   "source": [
    "res85.pvalues.sort_values()"
   ]
  },
  {
   "cell_type": "code",
   "execution_count": 47,
   "metadata": {},
   "outputs": [
    {
     "data": {
      "text/plain": [
       "escolari           1.000000\n",
       "instlevel1         0.634802\n",
       "estadocivil1       0.597442\n",
       "instlevel8         0.543657\n",
       "meaneduc           0.502300\n",
       "instlevel5         0.369087\n",
       "instlevel2         0.359996\n",
       "r4t1               0.297023\n",
       "dependency_rate    0.286150\n",
       "edjefe             0.272987\n",
       "estadocivil7       0.263401\n",
       "instlevel4         0.246765\n",
       "r4m1               0.226397\n",
       "r4h1               0.221519\n",
       "rooms              0.220402\n",
       "hogar_nin          0.220071\n",
       "age                0.218037\n",
       "cielorazo          0.217700\n",
       "computer           0.214397\n",
       "instlevel9         0.212783\n",
       "overcrowding       0.210728\n",
       "paredblolad        0.204181\n",
       "epared3            0.200128\n",
       "pisomoscer         0.186150\n",
       "v18q               0.182229\n",
       "qmobilephone       0.177127\n",
       "eviv3              0.171440\n",
       "estadocivil3       0.171324\n",
       "parentesco6        0.163475\n",
       "etecho3            0.154508\n",
       "                     ...   \n",
       "sanitario1         0.038725\n",
       "pisonatur          0.038083\n",
       "techootro          0.037125\n",
       "v14a               0.036812\n",
       "noelec             0.035089\n",
       "sanitario6         0.030417\n",
       "elimbasu4          0.028994\n",
       "lugar2             0.027081\n",
       "female             0.026784\n",
       "male               0.026784\n",
       "public             0.024365\n",
       "abastaguano        0.023111\n",
       "sanitario3         0.022977\n",
       "parentesco4        0.019922\n",
       "parentesco8        0.019741\n",
       "parentesco12       0.019524\n",
       "paredfibras        0.018981\n",
       "parentesco9        0.018469\n",
       "techoentrepiso     0.018433\n",
       "lugar3             0.017954\n",
       "parentesco10       0.016315\n",
       "tipovivi3          0.013887\n",
       "coopele            0.013280\n",
       "pisoother          0.006532\n",
       "paredother         0.005243\n",
       "planpri            0.003354\n",
       "energcocinar1      0.001933\n",
       "instlevel3         0.000345\n",
       "elimbasu6          0.000015\n",
       "elimbasu5               NaN\n",
       "Name: escolari, Length: 128, dtype: float64"
      ]
     },
     "execution_count": 47,
     "metadata": {},
     "output_type": "execute_result"
    }
   ],
   "source": [
    "abs(X85.corr()['escolari']).sort_values(ascending=False)"
   ]
  },
  {
   "cell_type": "code",
   "execution_count": 37,
   "metadata": {},
   "outputs": [],
   "source": [
    "def feature_selection_by_p_value(X, y):\n",
    "    mod = sm.OLS(y, X)\n",
    "    res = mod.fit()\n",
    "    if sum(res.pvalues[res.pvalues>0.05])>0:\n",
    "        print(sum(res.pvalues>0.05))\n",
    "        columns = res.pvalues[res.pvalues>0.05].index\n",
    "        X = X.drop(columns, axis=1)\n",
    "        X = feature_selection_by_p_value(X, y)\n",
    "    else:\n",
    "        print(X.head())\n",
    "        return X\n",
    "    return X"
   ]
  },
  {
   "cell_type": "code",
   "execution_count": 38,
   "metadata": {},
   "outputs": [
    {
     "name": "stdout",
     "output_type": "stream",
     "text": [
      "38\n",
      "12\n",
      "3\n",
      "   hacdor  rooms  hacapo  refrig  v18q  r4h1  r4m1  r4m2  r4m3  r4t1  \\\n",
      "0       0      3       0       1     0     0     0     0     0     0   \n",
      "1       0      4       0       1     1     0     0     0     0     0   \n",
      "2       0      8       0       1     0     0     0     1     1     0   \n",
      "3       0      5       0       1     1     0     1     1     2     1   \n",
      "4       0      5       0       1     1     0     1     1     2     1   \n",
      "\n",
      "        ...         overcrowding  tipovivi2  tipovivi3  television  \\\n",
      "0       ...             1.000000          0          1           0   \n",
      "1       ...             1.000000          0          1           0   \n",
      "2       ...             0.500000          0          0           0   \n",
      "3       ...             1.333333          0          1           0   \n",
      "4       ...             1.333333          0          1           0   \n",
      "\n",
      "   qmobilephone  lugar1  lugar6  area2  age  dependency_rate  \n",
      "0             1       1       0      0   43              0.0  \n",
      "1             1       1       0      0   67              1.0  \n",
      "2             0       1       0      0   92              1.0  \n",
      "3             3       1       0      0   17              0.5  \n",
      "4             3       1       0      0   37              0.5  \n",
      "\n",
      "[5 rows x 75 columns]\n"
     ]
    }
   ],
   "source": [
    "import statsmodels.api as sm\n",
    "X85 = feature_selection_by_p_value(X85, y85)"
   ]
  },
  {
   "cell_type": "code",
   "execution_count": 39,
   "metadata": {},
   "outputs": [],
   "source": [
    "X85[\"target\"] = y85\n",
    "\n"
   ]
  },
  {
   "cell_type": "code",
   "execution_count": 40,
   "metadata": {},
   "outputs": [
    {
     "name": "stdout",
     "output_type": "stream",
     "text": [
      "['hacdor', 'rooms', 'hacapo', 'refrig', 'v18q', 'r4h1', 'r4m1', 'r4m2', 'r4m3', 'r4t1', 'tamhog', 'tamviv', 'hhsize', 'paredblolad', 'pareddes', 'paredfibras', 'paredother', 'pisocemento', 'pisoother', 'techozinc', 'techootro', 'cielorazo', 'abastaguadentro', 'abastaguafuera', 'sanitario1', 'sanitario5', 'sanitario6', 'energcocinar2', 'energcocinar3', 'energcocinar4', 'elimbasu5', 'elimbasu6', 'epared3', 'etecho2', 'etecho3', 'eviv1', 'eviv3', 'dis', 'male', 'female', 'estadocivil1', 'estadocivil2', 'estadocivil4', 'estadocivil6', 'estadocivil7', 'parentesco4', 'parentesco6', 'parentesco7', 'parentesco10', 'parentesco12', 'hogar_nin', 'hogar_adul', 'hogar_mayor', 'hogar_total', 'edjefe', 'edjefa', 'meaneduc', 'instlevel1', 'instlevel2', 'instlevel3', 'instlevel4', 'instlevel5', 'instlevel6', 'instlevel7', 'instlevel8', 'overcrowding', 'tipovivi2', 'tipovivi3', 'television', 'qmobilephone', 'lugar1', 'lugar6', 'area2', 'age', 'dependency_rate', 'target']\n"
     ]
    }
   ],
   "source": [
    "train85 = spark.createDataFrame(X85)\n",
    "print(train85.columns)"
   ]
  },
  {
   "cell_type": "code",
   "execution_count": 41,
   "metadata": {},
   "outputs": [],
   "source": [
    "from pyspark.ml.classification import DecisionTreeClassifier, RandomForestClassifier\n",
    "from pyspark.ml.feature import VectorAssembler\n",
    "\n",
    "assembler85 = VectorAssembler(\n",
    "  inputCols=['hacdor', 'rooms', 'hacapo', 'refrig', 'v18q', 'r4h1', 'r4m1', 'r4m2', 'r4m3', 'r4t1', 'tamhog', 'tamviv', 'hhsize', 'paredblolad', 'pareddes', 'paredfibras', 'paredother', 'pisocemento', 'pisoother', 'techozinc', 'techootro', 'cielorazo', 'abastaguadentro', 'abastaguafuera', 'sanitario1', 'sanitario5', 'sanitario6', 'energcocinar2', 'energcocinar3', 'energcocinar4', 'elimbasu6', 'epared3', 'etecho2', 'etecho3', 'eviv1', 'eviv3', 'dis', 'male', 'female', 'estadocivil1', 'estadocivil2', 'estadocivil4', 'estadocivil6', 'estadocivil7', 'parentesco4', 'parentesco6', 'parentesco7', 'parentesco10', 'parentesco12', 'hogar_nin', 'hogar_adul', 'hogar_mayor', 'hogar_total', 'edjefe', 'edjefa', 'meaneduc', 'instlevel1', 'instlevel2', 'instlevel3', 'instlevel4', 'instlevel5', 'instlevel6', 'instlevel7', 'instlevel8', 'overcrowding', 'tipovivi2', 'tipovivi3', 'television', 'qmobilephone', 'lugar1', 'lugar6', 'area2', 'age', 'dependency_rate'],\n",
    "              outputCol=\"features\")"
   ]
  },
  {
   "cell_type": "code",
   "execution_count": 42,
   "metadata": {},
   "outputs": [],
   "source": [
    "output85 = assembler85.transform(train85)\n",
    "from pyspark.ml.feature import StringIndexer\n",
    "indexer = StringIndexer(inputCol=\"target\", outputCol=\"targetIndex\")\n",
    "output_fixed85 = indexer.fit(output85).transform(output85)\n",
    "final_data85 = output_fixed85.select(\"features\",'targetIndex')"
   ]
  },
  {
   "cell_type": "code",
   "execution_count": 43,
   "metadata": {},
   "outputs": [],
   "source": [
    "from pyspark.ml.evaluation import BinaryClassificationEvaluator\n",
    "my_binary_eval = BinaryClassificationEvaluator(labelCol = 'targetIndex')"
   ]
  },
  {
   "cell_type": "code",
   "execution_count": 46,
   "metadata": {},
   "outputs": [
    {
     "name": "stdout",
     "output_type": "stream",
     "text": [
      "(21120, 2)\n",
      "(2328, 2)\n"
     ]
    }
   ],
   "source": [
    "train_data85,test_data85 = final_data85.randomSplit([0.9,0.1])\n",
    "print((train_data85.count(), len(train_data85.columns)))\n",
    "print((test_data85.count(), len(test_data85.columns)))"
   ]
  },
  {
   "cell_type": "code",
   "execution_count": 47,
   "metadata": {},
   "outputs": [
    {
     "name": "stdout",
     "output_type": "stream",
     "text": [
      "Conversion Success !\n",
      "Training duration:  5.613530158996582  seconds\n",
      "Accuracy:  0.6623052003007365\n"
     ]
    }
   ],
   "source": [
    "import time\n",
    "\n",
    "start = time.time()\n",
    "\n",
    "dtc_tree_85 = DecisionTreeClassifier(labelCol='targetIndex',featuresCol='features', maxDepth=4, minInstancesPerNode=2000)\n",
    "dtc_tree_model_85 = dtc_tree_85.fit(train_data85)\n",
    "\n",
    "\n",
    "tree_feature_json(dtc_tree_model_85.toDebugString, X85.columns)\n",
    "\n",
    "dtc_tree_predictions_85 = dtc_tree_model_85.transform(test_data85)\n",
    "\n",
    "\n",
    "end = time.time()\n",
    "duration = end-start\n",
    "\n",
    "print(\"Training duration: \", duration, \" seconds\")\n",
    "print(\"Accuracy: \", my_binary_eval.evaluate(dtc_tree_predictions_85))"
   ]
  },
  {
   "cell_type": "code",
   "execution_count": 48,
   "metadata": {},
   "outputs": [
    {
     "name": "stdout",
     "output_type": "stream",
     "text": [
      "Training duration:  4.244594097137451  seconds\n",
      "Accuracy:  0.8091617363989552\n"
     ]
    }
   ],
   "source": [
    "\n",
    "start = time.time()\n",
    "\n",
    "dtc_forest_85 = RandomForestClassifier(labelCol='targetIndex',featuresCol='features')\n",
    "dtc_forest_model_85 = dtc_forest_85.fit(train_data85)\n",
    "\n",
    "\n",
    "\n",
    "dtc_forest_predictions_85 = dtc_forest_model_85.transform(test_data85)\n",
    "\n",
    "\n",
    "end = time.time()\n",
    "duration = end-start\n",
    "\n",
    "print(\"Training duration: \", duration, \" seconds\")\n",
    "print(\"Accuracy: \", my_binary_eval.evaluate(dtc_forest_predictions_85))"
   ]
  },
  {
   "cell_type": "code",
   "execution_count": null,
   "metadata": {},
   "outputs": [],
   "source": []
  }
 ],
 "metadata": {
  "kernelspec": {
   "display_name": "Python 3",
   "language": "python",
   "name": "python3"
  },
  "language_info": {
   "codemirror_mode": {
    "name": "ipython",
    "version": 3
   },
   "file_extension": ".py",
   "mimetype": "text/x-python",
   "name": "python",
   "nbconvert_exporter": "python",
   "pygments_lexer": "ipython3",
   "version": "3.5.2"
  }
 },
 "nbformat": 4,
 "nbformat_minor": 2
}
